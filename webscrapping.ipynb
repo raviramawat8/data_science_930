{
 "cells": [
  {
   "cell_type": "markdown",
   "metadata": {},
   "source": [
    "<html>\n",
    "    <head>\n",
    "        <title> </title>\n",
    "    </head>\n",
    "    <body>\n",
    "        <h1 style=\"font-family:Comic Sans Ms; color:red\">Welcome To HTML</h1> \n",
    "        <p> Hello I am HTML5</p>\n",
    "    </body>\n",
    "</html>"
   ]
  },
  {
   "cell_type": "code",
   "execution_count": 2,
   "metadata": {},
   "outputs": [],
   "source": [
    "from bs4 import BeautifulSoup as soup\n",
    "from urllib.request import urlopen as request"
   ]
  },
  {
   "cell_type": "code",
   "execution_count": 10,
   "metadata": {},
   "outputs": [],
   "source": [
    "data = request('https://www.instagram.com/raviramawat8')"
   ]
  },
  {
   "cell_type": "code",
   "execution_count": 11,
   "metadata": {},
   "outputs": [
    {
     "data": {
      "text/plain": [
       "'OK'"
      ]
     },
     "execution_count": 11,
     "metadata": {},
     "output_type": "execute_result"
    }
   ],
   "source": [
    "data.msg"
   ]
  },
  {
   "cell_type": "code",
   "execution_count": 12,
   "metadata": {},
   "outputs": [
    {
     "name": "stdout",
     "output_type": "stream",
     "text": [
      "<class 'http.client.HTTPResponse'>\n"
     ]
    }
   ],
   "source": [
    "print(type(data))"
   ]
  },
  {
   "cell_type": "code",
   "execution_count": 13,
   "metadata": {},
   "outputs": [],
   "source": [
    "data=soup(markup=data)"
   ]
  },
  {
   "cell_type": "code",
   "execution_count": 14,
   "metadata": {},
   "outputs": [
    {
     "data": {
      "text/plain": [
       "<!DOCTYPE html>\n",
       "<html class=\"no-js not-logged-in client-root\" lang=\"en\">\n",
       "<head>\n",
       "<meta charset=\"utf-8\"/>\n",
       "<meta content=\"IE=edge\" http-equiv=\"X-UA-Compatible\"/>\n",
       "<title>\n",
       "Ravi Ramawat (@raviramawat8) • Instagram photos and videos\n",
       "</title>\n",
       "<meta content=\"noimageindex, noarchive\" name=\"robots\"/>\n",
       "<meta content=\"default\" name=\"apple-mobile-web-app-status-bar-style\"/>\n",
       "<meta content=\"yes\" name=\"mobile-web-app-capable\"/>\n",
       "<meta content=\"#ffffff\" name=\"theme-color\"/>\n",
       "<meta content=\"width=device-width, initial-scale=1, minimum-scale=1, maximum-scale=1, viewport-fit=cover\" id=\"viewport\" name=\"viewport\"/>\n",
       "<link href=\"/data/manifest.json\" rel=\"manifest\"/>\n",
       "<link as=\"style\" crossorigin=\"anonymous\" href=\"/static/bundles/metro/ConsumerUICommons.css/d176aad21614.css\" rel=\"preload\" type=\"text/css\"/>\n",
       "<link as=\"style\" crossorigin=\"anonymous\" href=\"/static/bundles/metro/ConsumerAsyncCommons.css/f5339c1f472f.css\" rel=\"preload\" type=\"text/css\"/>\n",
       "<link as=\"style\" crossorigin=\"anonymous\" href=\"/static/bundles/metro/Consumer.css/894f617d9b9a.css\" rel=\"preload\" type=\"text/css\"/>\n",
       "<link as=\"style\" crossorigin=\"anonymous\" href=\"/static/bundles/metro/ProfilePageContainer.css/7e662aaf18d1.css\" rel=\"preload\" type=\"text/css\"/>\n",
       "<link as=\"script\" crossorigin=\"anonymous\" href=\"/static/bundles/metro/Vendor.js/5a56d51ae30f.js\" rel=\"preload\" type=\"text/javascript\"/>\n",
       "<link as=\"script\" crossorigin=\"anonymous\" href=\"/static/bundles/metro/en_US.js/1717ee283d0a.js\" rel=\"preload\" type=\"text/javascript\"/>\n",
       "<link as=\"script\" crossorigin=\"anonymous\" href=\"/static/bundles/metro/ConsumerLibCommons.js/8734a737278e.js\" rel=\"preload\" type=\"text/javascript\"/>\n",
       "<link as=\"script\" crossorigin=\"anonymous\" href=\"/static/bundles/metro/ConsumerUICommons.js/2c3926228c45.js\" rel=\"preload\" type=\"text/javascript\"/>\n",
       "<link as=\"script\" crossorigin=\"anonymous\" href=\"/static/bundles/metro/ConsumerAsyncCommons.js/4a835d081fbd.js\" rel=\"preload\" type=\"text/javascript\"/>\n",
       "<link as=\"script\" crossorigin=\"anonymous\" href=\"/static/bundles/metro/Consumer.js/c5fe9c12c0e9.js\" rel=\"preload\" type=\"text/javascript\"/>\n",
       "<link as=\"script\" crossorigin=\"anonymous\" href=\"/static/bundles/metro/ProfilePageContainer.js/9e1e9f06e7c2.js\" rel=\"preload\" type=\"text/javascript\"/>\n",
       "<script type=\"text/javascript\">\n",
       "        (function() {\n",
       "  var docElement = document.documentElement;\n",
       "  var classRE = new RegExp('(^|\\\\s)no-js(\\\\s|$)');\n",
       "  var className = docElement.className;\n",
       "  docElement.className = className.replace(classRE, '$1js$2');\n",
       "})();\n",
       "</script>\n",
       "<script type=\"text/javascript\">\n",
       "(function() {\n",
       "  if ('PerformanceObserver' in window && 'PerformancePaintTiming' in window) {\n",
       "    window.__bufferedPerformance = [];\n",
       "    var ob = new PerformanceObserver(function(e) {\n",
       "      window.__bufferedPerformance.push.apply(window.__bufferedPerformance,e.getEntries());\n",
       "    });\n",
       "    ob.observe({entryTypes:['paint']});\n",
       "  }\n",
       "\n",
       "  window.__bufferedErrors = [];\n",
       "  window.onerror = function(message, url, line, column, error) {\n",
       "    window.__bufferedErrors.push({\n",
       "      message: message,\n",
       "      url: url,\n",
       "      line: line,\n",
       "      column: column,\n",
       "      error: error\n",
       "    });\n",
       "    return false;\n",
       "  };\n",
       "  window.__initialData = {\n",
       "    pending: true,\n",
       "    waiting: []\n",
       "  };\n",
       "  function asyncFetchSharedData(extra) {\n",
       "    var sharedDataReq = new XMLHttpRequest();\n",
       "    sharedDataReq.onreadystatechange = function() {\n",
       "          if (sharedDataReq.readyState === 4) {\n",
       "            if(sharedDataReq.status === 200){\n",
       "              var sharedData = JSON.parse(sharedDataReq.responseText);\n",
       "              window.__initialDataLoaded(sharedData, extra);\n",
       "            }\n",
       "          }\n",
       "        }\n",
       "    sharedDataReq.open('GET', '/data/shared_data/', true);\n",
       "    sharedDataReq.send(null);\n",
       "  }\n",
       "  function notifyLoaded(item, data) {\n",
       "    item.pending = false;\n",
       "    item.data = data;\n",
       "    for (var i = 0;i < item.waiting.length; ++i) {\n",
       "      item.waiting[i].resolve(item.data);\n",
       "    }\n",
       "    item.waiting = [];\n",
       "  }\n",
       "  function notifyError(item, msg) {\n",
       "    item.pending = false;\n",
       "    item.error = new Error(msg);\n",
       "    for (var i = 0;i < item.waiting.length; ++i) {\n",
       "      item.waiting[i].reject(item.error);\n",
       "    }\n",
       "    item.waiting = [];\n",
       "  }\n",
       "  window.__initialDataLoaded = function(initialData, extraData) {\n",
       "    if (extraData) {\n",
       "      for (var key in extraData) {\n",
       "        initialData[key] = extraData[key];\n",
       "      }\n",
       "    }\n",
       "    notifyLoaded(window.__initialData, initialData);\n",
       "  };\n",
       "  window.__initialDataError = function(msg) {\n",
       "    notifyError(window.__initialData, msg);\n",
       "  };\n",
       "  window.__additionalData = {};\n",
       "  window.__pendingAdditionalData = function(paths) {\n",
       "    for (var i = 0;i < paths.length; ++i) {\n",
       "      window.__additionalData[paths[i]] = {\n",
       "        pending: true,\n",
       "        waiting: []\n",
       "      };\n",
       "    }\n",
       "  };\n",
       "  window.__additionalDataLoaded = function(path, data) {\n",
       "    if (path in window.__additionalData) {\n",
       "      notifyLoaded(window.__additionalData[path], data);\n",
       "    } else {\n",
       "      console.error('Unexpected additional data loaded \"' + path + '\"');\n",
       "    }\n",
       "  };\n",
       "  window.__additionalDataError = function(path, msg) {\n",
       "    if (path in window.__additionalData) {\n",
       "      notifyError(window.__additionalData[path], msg);\n",
       "    } else {\n",
       "      console.error('Unexpected additional data encountered an error \"' + path + '\": ' + msg);\n",
       "    }\n",
       "  };\n",
       "  \n",
       "})();\n",
       "</script><script type=\"text/javascript\">\n",
       "\n",
       "/*\n",
       " Copyright 2018 Google Inc. All Rights Reserved.\n",
       " Licensed under the Apache License, Version 2.0 (the \"License\");\n",
       " you may not use this file except in compliance with the License.\n",
       " You may obtain a copy of the License at\n",
       "\n",
       "     http://www.apache.org/licenses/LICENSE-2.0\n",
       "\n",
       " Unless required by applicable law or agreed to in writing, software\n",
       " distributed under the License is distributed on an \"AS IS\" BASIS,\n",
       " WITHOUT WARRANTIES OR CONDITIONS OF ANY KIND, either express or implied.\n",
       " See the License for the specific language governing permissions and\n",
       " limitations under the License.\n",
       "*/\n",
       "\n",
       "(function(){function g(a,c){b||(b=a,f=c,h.forEach(function(a){removeEventListener(a,l,e)}),m())}function m(){b&&f&&0<d.length&&(d.forEach(function(a){a(b,f)}),d=[])}function n(a,c){function k(){g(a,c);d()}function b(){d()}function d(){removeEventListener(\"pointerup\",k,e);removeEventListener(\"pointercancel\",b,e)}addEventListener(\"pointerup\",k,e);addEventListener(\"pointercancel\",b,e)}function l(a){if(a.cancelable){var c=performance.now(),b=a.timeStamp;b>c&&(c=+new Date);c-=b;\"pointerdown\"==a.type?n(c,\n",
       "a):g(c,a)}}var e={passive:!0,capture:!0},h=[\"click\",\"mousedown\",\"keydown\",\"touchstart\",\"pointerdown\"],b,f,d=[];h.forEach(function(a){addEventListener(a,l,e)});window.perfMetrics=window.perfMetrics||{};window.perfMetrics.onFirstInputDelay=function(a){d.push(a);m()}})();\n",
       "</script>\n",
       "<link href=\"/static/images/ico/apple-touch-icon-76x76-precomposed.png/666282be8229.png\" rel=\"apple-touch-icon-precomposed\" sizes=\"76x76\"/>\n",
       "<link href=\"/static/images/ico/apple-touch-icon-120x120-precomposed.png/8a5bd3f267b1.png\" rel=\"apple-touch-icon-precomposed\" sizes=\"120x120\"/>\n",
       "<link href=\"/static/images/ico/apple-touch-icon-152x152-precomposed.png/68193576ffc5.png\" rel=\"apple-touch-icon-precomposed\" sizes=\"152x152\"/>\n",
       "<link href=\"/static/images/ico/apple-touch-icon-167x167-precomposed.png/4985e31c9100.png\" rel=\"apple-touch-icon-precomposed\" sizes=\"167x167\"/>\n",
       "<link href=\"/static/images/ico/apple-touch-icon-180x180-precomposed.png/c06fdb2357bd.png\" rel=\"apple-touch-icon-precomposed\" sizes=\"180x180\"/>\n",
       "<link href=\"/static/images/ico/favicon-192.png/68d99ba29cc8.png\" rel=\"icon\" sizes=\"192x192\"/>\n",
       "<link color=\"#262626\" href=\"/static/images/ico/favicon.svg/fc72dd4bfde8.svg\" rel=\"mask-icon\"/>\n",
       "<link href=\"/static/images/ico/favicon.ico/36b3ee2d91ed.ico\" rel=\"shortcut icon\" type=\"image/x-icon\"/>\n",
       "<link href=\"android-app://com.instagram.android/https/instagram.com/_u/raviramawat8/\" rel=\"alternate\"/>\n",
       "<meta content=\"Instagram\" property=\"al:ios:app_name\"/>\n",
       "<meta content=\"389801252\" property=\"al:ios:app_store_id\"/>\n",
       "<meta content=\"instagram://user?username=raviramawat8\" property=\"al:ios:url\"/>\n",
       "<meta content=\"Instagram\" property=\"al:android:app_name\"/>\n",
       "<meta content=\"com.instagram.android\" property=\"al:android:package\"/>\n",
       "<meta content=\"https://www.instagram.com/_u/raviramawat8/\" property=\"al:android:url\"/>\n",
       "<link href=\"https://www.instagram.com/raviramawat8/\" rel=\"canonical\"/>\n",
       "<meta content=\"284 Followers, 298 Following, 10 Posts - See Instagram photos and videos from Ravi Ramawat (@raviramawat8)\" name=\"description\"/>\n",
       "<meta content=\"profile\" property=\"og:type\"/>\n",
       "<meta content=\"https://instagram.famd5-1.fna.fbcdn.net/v/t51.2885-19/s150x150/70126373_2833157200032247_882978944582680576_n.jpg?_nc_ht=instagram.famd5-1.fna.fbcdn.net&amp;_nc_ohc=8Do4vIwsvfEAX-8olbf&amp;oh=b01c9ad4949918af3c138d8cca47a935&amp;oe=5EDB40F6\" property=\"og:image\"/>\n",
       "<meta content=\"Ravi Ramawat (@raviramawat8) • Instagram photos and videos\" property=\"og:title\"/>\n",
       "<meta content=\"284 Followers, 298 Following, 10 Posts - See Instagram photos and videos from Ravi Ramawat (@raviramawat8)\" property=\"og:description\"/>\n",
       "<meta content=\"https://www.instagram.com/raviramawat8/\" property=\"og:url\"/>\n",
       "<script type=\"application/ld+json\">\n",
       "                {\"@context\":\"http:\\/\\/schema.org\",\"@type\":\"Person\",\"name\":\"Ravi Ramawat\",\"alternateName\":\"@raviramawat8\",\"description\":\"w!sH m\\u20ac oN 16th f\\u20acb\\ud83c\\udf82\\ud83c\\udf82\\nsiKaR\\ud83d\\udeebguWaHat!\\ud83d\\udeebja!pUr\\n\\u20acngin\\u20ac\\u20acr\\ud83d\\ude80\\njEciAn\\ud83d\\ude0b\\n\\ud83d\\ude4f\\ud83d\\ude4fgHaN! kHaMmA\\ud83d\\ude4f\\ud83d\\ude4f\",\"mainEntityofPage\":{\"@type\":\"ProfilePage\",\"@id\":\"https:\\/\\/www.instagram.com\\/raviramawat8\\/\",\"interactionStatistic\":{\"@type\":\"InteractionCounter\",\"interactionType\":\"http:\\/\\/schema.org\\/FollowAction\",\"userInteractionCount\":\"284\"}},\"image\":\"https:\\/\\/www.instagram.com\\/static\\/images\\/ico\\/favicon-200.png\\/ab6eff595bb1.png\"}\n",
       "            </script>\n",
       "<link href=\"https://www.instagram.com/raviramawat8/\" hreflang=\"x-default\" rel=\"alternate\"/>\n",
       "<link href=\"https://www.instagram.com/raviramawat8/?hl=en\" hreflang=\"en\" rel=\"alternate\"/>\n",
       "<link href=\"https://www.instagram.com/raviramawat8/?hl=fr\" hreflang=\"fr\" rel=\"alternate\"/>\n",
       "<link href=\"https://www.instagram.com/raviramawat8/?hl=it\" hreflang=\"it\" rel=\"alternate\"/>\n",
       "<link href=\"https://www.instagram.com/raviramawat8/?hl=de\" hreflang=\"de\" rel=\"alternate\"/>\n",
       "<link href=\"https://www.instagram.com/raviramawat8/?hl=es\" hreflang=\"es\" rel=\"alternate\"/>\n",
       "<link href=\"https://www.instagram.com/raviramawat8/?hl=zh-cn\" hreflang=\"zh-cn\" rel=\"alternate\"/>\n",
       "<link href=\"https://www.instagram.com/raviramawat8/?hl=zh-tw\" hreflang=\"zh-tw\" rel=\"alternate\"/>\n",
       "<link href=\"https://www.instagram.com/raviramawat8/?hl=ja\" hreflang=\"ja\" rel=\"alternate\"/>\n",
       "<link href=\"https://www.instagram.com/raviramawat8/?hl=ko\" hreflang=\"ko\" rel=\"alternate\"/>\n",
       "<link href=\"https://www.instagram.com/raviramawat8/?hl=pt\" hreflang=\"pt\" rel=\"alternate\"/>\n",
       "<link href=\"https://www.instagram.com/raviramawat8/?hl=pt-br\" hreflang=\"pt-br\" rel=\"alternate\"/>\n",
       "<link href=\"https://www.instagram.com/raviramawat8/?hl=af\" hreflang=\"af\" rel=\"alternate\"/>\n",
       "<link href=\"https://www.instagram.com/raviramawat8/?hl=cs\" hreflang=\"cs\" rel=\"alternate\"/>\n",
       "<link href=\"https://www.instagram.com/raviramawat8/?hl=da\" hreflang=\"da\" rel=\"alternate\"/>\n",
       "<link href=\"https://www.instagram.com/raviramawat8/?hl=el\" hreflang=\"el\" rel=\"alternate\"/>\n",
       "<link href=\"https://www.instagram.com/raviramawat8/?hl=fi\" hreflang=\"fi\" rel=\"alternate\"/>\n",
       "<link href=\"https://www.instagram.com/raviramawat8/?hl=hr\" hreflang=\"hr\" rel=\"alternate\"/>\n",
       "<link href=\"https://www.instagram.com/raviramawat8/?hl=hu\" hreflang=\"hu\" rel=\"alternate\"/>\n",
       "<link href=\"https://www.instagram.com/raviramawat8/?hl=id\" hreflang=\"id\" rel=\"alternate\"/>\n",
       "<link href=\"https://www.instagram.com/raviramawat8/?hl=ms\" hreflang=\"ms\" rel=\"alternate\"/>\n",
       "<link href=\"https://www.instagram.com/raviramawat8/?hl=nb\" hreflang=\"nb\" rel=\"alternate\"/>\n",
       "<link href=\"https://www.instagram.com/raviramawat8/?hl=nl\" hreflang=\"nl\" rel=\"alternate\"/>\n",
       "<link href=\"https://www.instagram.com/raviramawat8/?hl=pl\" hreflang=\"pl\" rel=\"alternate\"/>\n",
       "<link href=\"https://www.instagram.com/raviramawat8/?hl=ru\" hreflang=\"ru\" rel=\"alternate\"/>\n",
       "<link href=\"https://www.instagram.com/raviramawat8/?hl=sk\" hreflang=\"sk\" rel=\"alternate\"/>\n",
       "<link href=\"https://www.instagram.com/raviramawat8/?hl=sv\" hreflang=\"sv\" rel=\"alternate\"/>\n",
       "<link href=\"https://www.instagram.com/raviramawat8/?hl=th\" hreflang=\"th\" rel=\"alternate\"/>\n",
       "<link href=\"https://www.instagram.com/raviramawat8/?hl=tl\" hreflang=\"tl\" rel=\"alternate\"/>\n",
       "<link href=\"https://www.instagram.com/raviramawat8/?hl=tr\" hreflang=\"tr\" rel=\"alternate\"/>\n",
       "<link href=\"https://www.instagram.com/raviramawat8/?hl=hi\" hreflang=\"hi\" rel=\"alternate\"/>\n",
       "<link href=\"https://www.instagram.com/raviramawat8/?hl=bn\" hreflang=\"bn\" rel=\"alternate\"/>\n",
       "<link href=\"https://www.instagram.com/raviramawat8/?hl=gu\" hreflang=\"gu\" rel=\"alternate\"/>\n",
       "<link href=\"https://www.instagram.com/raviramawat8/?hl=kn\" hreflang=\"kn\" rel=\"alternate\"/>\n",
       "<link href=\"https://www.instagram.com/raviramawat8/?hl=ml\" hreflang=\"ml\" rel=\"alternate\"/>\n",
       "<link href=\"https://www.instagram.com/raviramawat8/?hl=mr\" hreflang=\"mr\" rel=\"alternate\"/>\n",
       "<link href=\"https://www.instagram.com/raviramawat8/?hl=pa\" hreflang=\"pa\" rel=\"alternate\"/>\n",
       "<link href=\"https://www.instagram.com/raviramawat8/?hl=ta\" hreflang=\"ta\" rel=\"alternate\"/>\n",
       "<link href=\"https://www.instagram.com/raviramawat8/?hl=te\" hreflang=\"te\" rel=\"alternate\"/>\n",
       "<link href=\"https://www.instagram.com/raviramawat8/?hl=ne\" hreflang=\"ne\" rel=\"alternate\"/>\n",
       "<link href=\"https://www.instagram.com/raviramawat8/?hl=si\" hreflang=\"si\" rel=\"alternate\"/>\n",
       "<link href=\"https://www.instagram.com/raviramawat8/?hl=ur\" hreflang=\"ur\" rel=\"alternate\"/>\n",
       "<link href=\"https://www.instagram.com/raviramawat8/?hl=vi\" hreflang=\"vi\" rel=\"alternate\"/>\n",
       "<link href=\"https://www.instagram.com/raviramawat8/?hl=bg\" hreflang=\"bg\" rel=\"alternate\"/>\n",
       "<link href=\"https://www.instagram.com/raviramawat8/?hl=fr-ca\" hreflang=\"fr-ca\" rel=\"alternate\"/>\n",
       "<link href=\"https://www.instagram.com/raviramawat8/?hl=ro\" hreflang=\"ro\" rel=\"alternate\"/>\n",
       "<link href=\"https://www.instagram.com/raviramawat8/?hl=sr\" hreflang=\"sr\" rel=\"alternate\"/>\n",
       "<link href=\"https://www.instagram.com/raviramawat8/?hl=uk\" hreflang=\"uk\" rel=\"alternate\"/>\n",
       "<link href=\"https://www.instagram.com/raviramawat8/?hl=zh-hk\" hreflang=\"zh-hk\" rel=\"alternate\"/>\n",
       "<link href=\"https://www.instagram.com/raviramawat8/?hl=es-la\" hreflang=\"es-uy\" rel=\"alternate\"/>\n",
       "<link href=\"https://www.instagram.com/raviramawat8/?hl=es-la\" hreflang=\"es-cr\" rel=\"alternate\"/>\n",
       "<link href=\"https://www.instagram.com/raviramawat8/?hl=es-la\" hreflang=\"es-gt\" rel=\"alternate\"/>\n",
       "<link href=\"https://www.instagram.com/raviramawat8/?hl=es-la\" hreflang=\"es-mx\" rel=\"alternate\"/>\n",
       "<link href=\"https://www.instagram.com/raviramawat8/?hl=es-la\" hreflang=\"es-py\" rel=\"alternate\"/>\n",
       "<link href=\"https://www.instagram.com/raviramawat8/?hl=es-la\" hreflang=\"es-do\" rel=\"alternate\"/>\n",
       "<link href=\"https://www.instagram.com/raviramawat8/?hl=es-la\" hreflang=\"es-sv\" rel=\"alternate\"/>\n",
       "<link href=\"https://www.instagram.com/raviramawat8/?hl=es-la\" hreflang=\"es-hn\" rel=\"alternate\"/>\n",
       "<link href=\"https://www.instagram.com/raviramawat8/?hl=es-la\" hreflang=\"es-cu\" rel=\"alternate\"/>\n",
       "<link href=\"https://www.instagram.com/raviramawat8/?hl=es-la\" hreflang=\"es-pe\" rel=\"alternate\"/>\n",
       "<link href=\"https://www.instagram.com/raviramawat8/?hl=es-la\" hreflang=\"es-bo\" rel=\"alternate\"/>\n",
       "<link href=\"https://www.instagram.com/raviramawat8/?hl=es-la\" hreflang=\"es-ec\" rel=\"alternate\"/>\n",
       "<link href=\"https://www.instagram.com/raviramawat8/?hl=es-la\" hreflang=\"es-co\" rel=\"alternate\"/>\n",
       "<link href=\"https://www.instagram.com/raviramawat8/?hl=es-la\" hreflang=\"es-ni\" rel=\"alternate\"/>\n",
       "<link href=\"https://www.instagram.com/raviramawat8/?hl=es-la\" hreflang=\"es-pr\" rel=\"alternate\"/>\n",
       "<link href=\"https://www.instagram.com/raviramawat8/?hl=es-la\" hreflang=\"es-cl\" rel=\"alternate\"/>\n",
       "<link href=\"https://www.instagram.com/raviramawat8/?hl=es-la\" hreflang=\"es-ve\" rel=\"alternate\"/>\n",
       "<link href=\"https://www.instagram.com/raviramawat8/?hl=es-la\" hreflang=\"es-pa\" rel=\"alternate\"/>\n",
       "<link href=\"https://www.instagram.com/raviramawat8/?hl=es-la\" hreflang=\"es-ar\" rel=\"alternate\"/>\n",
       "</head>\n",
       "<body class=\"\" style=\"\n",
       "    background: white;\n",
       "\">\n",
       "<div id=\"react-root\">\n",
       "<span><svg height=\"50\" style=\"position:absolute;top:50%;left:50%;margin:-25px 0 0 -25px;fill:#c7c7c7\" viewbox=\"0 0 50 50\" width=\"50\"><path d=\"M25 1c-6.52 0-7.34.03-9.9.14-2.55.12-4.3.53-5.82 1.12a11.76 11.76 0 0 0-4.25 2.77 11.76 11.76 0 0 0-2.77 4.25c-.6 1.52-1 3.27-1.12 5.82C1.03 17.66 1 18.48 1 25c0 6.5.03 7.33.14 9.88.12 2.56.53 4.3 1.12 5.83a11.76 11.76 0 0 0 2.77 4.25 11.76 11.76 0 0 0 4.25 2.77c1.52.59 3.27 1 5.82 1.11 2.56.12 3.38.14 9.9.14 6.5 0 7.33-.02 9.88-.14 2.56-.12 4.3-.52 5.83-1.11a11.76 11.76 0 0 0 4.25-2.77 11.76 11.76 0 0 0 2.77-4.25c.59-1.53 1-3.27 1.11-5.83.12-2.55.14-3.37.14-9.89 0-6.51-.02-7.33-.14-9.89-.12-2.55-.52-4.3-1.11-5.82a11.76 11.76 0 0 0-2.77-4.25 11.76 11.76 0 0 0-4.25-2.77c-1.53-.6-3.27-1-5.83-1.12A170.2 170.2 0 0 0 25 1zm0 4.32c6.4 0 7.16.03 9.69.14 2.34.11 3.6.5 4.45.83 1.12.43 1.92.95 2.76 1.8a7.43 7.43 0 0 1 1.8 2.75c.32.85.72 2.12.82 4.46.12 2.53.14 3.29.14 9.7 0 6.4-.02 7.16-.14 9.69-.1 2.34-.5 3.6-.82 4.45a7.43 7.43 0 0 1-1.8 2.76 7.43 7.43 0 0 1-2.76 1.8c-.84.32-2.11.72-4.45.82-2.53.12-3.3.14-9.7.14-6.4 0-7.16-.02-9.7-.14-2.33-.1-3.6-.5-4.45-.82a7.43 7.43 0 0 1-2.76-1.8 7.43 7.43 0 0 1-1.8-2.76c-.32-.84-.71-2.11-.82-4.45a166.5 166.5 0 0 1-.14-9.7c0-6.4.03-7.16.14-9.7.11-2.33.5-3.6.83-4.45a7.43 7.43 0 0 1 1.8-2.76 7.43 7.43 0 0 1 2.75-1.8c.85-.32 2.12-.71 4.46-.82 2.53-.11 3.29-.14 9.7-.14zm0 7.35a12.32 12.32 0 1 0 0 24.64 12.32 12.32 0 0 0 0-24.64zM25 33a8 8 0 1 1 0-16 8 8 0 0 1 0 16zm15.68-20.8a2.88 2.88 0 1 0-5.76 0 2.88 2.88 0 0 0 5.76 0z\"></path></svg></span>\n",
       "</div>\n",
       "<link crossorigin=\"anonymous\" href=\"/static/bundles/metro/ConsumerUICommons.css/d176aad21614.css\" rel=\"stylesheet\" type=\"text/css\"/>\n",
       "<link crossorigin=\"anonymous\" href=\"/static/bundles/metro/ConsumerAsyncCommons.css/f5339c1f472f.css\" rel=\"stylesheet\" type=\"text/css\"/>\n",
       "<link crossorigin=\"anonymous\" href=\"/static/bundles/metro/Consumer.css/894f617d9b9a.css\" rel=\"stylesheet\" type=\"text/css\"/>\n",
       "<script type=\"text/javascript\">window._sharedData = {\"config\":{\"csrf_token\":\"ZiMJEQUVYZkY3T7j0SyXM4VRKpd2OIZ8\",\"viewer\":null,\"viewerId\":null},\"country_code\":\"IN\",\"language_code\":\"en\",\"locale\":\"en_US\",\"entry_data\":{\"ProfilePage\":[{\"logging_page_id\":\"profilePage_4130664472\",\"show_suggested_profiles\":false,\"show_follow_dialog\":false,\"graphql\":{\"user\":{\"biography\":\"w!sH m\\u20ac oN 16th f\\u20acb\\ud83c\\udf82\\ud83c\\udf82\\nsiKaR\\ud83d\\udeebguWaHat!\\ud83d\\udeebja!pUr\\n\\u20acngin\\u20ac\\u20acr\\ud83d\\ude80\\njEciAn\\ud83d\\ude0b\\n\\ud83d\\ude4f\\ud83d\\ude4fgHaN! kHaMmA\\ud83d\\ude4f\\ud83d\\ude4f\",\"blocked_by_viewer\":false,\"restricted_by_viewer\":null,\"country_block\":false,\"external_url\":null,\"external_url_linkshimmed\":null,\"edge_followed_by\":{\"count\":284},\"followed_by_viewer\":false,\"edge_follow\":{\"count\":298},\"follows_viewer\":false,\"full_name\":\"Ravi Ramawat\",\"has_ar_effects\":false,\"has_channel\":false,\"has_blocked_viewer\":false,\"highlight_reel_count\":0,\"has_requested_viewer\":false,\"id\":\"4130664472\",\"is_business_account\":false,\"is_joined_recently\":false,\"business_category_name\":null,\"category_id\":null,\"overall_category_name\":null,\"is_private\":true,\"is_verified\":false,\"edge_mutual_followed_by\":{\"count\":0,\"edges\":[]},\"profile_pic_url\":\"https://instagram.famd5-1.fna.fbcdn.net/v/t51.2885-19/s150x150/70126373_2833157200032247_882978944582680576_n.jpg?_nc_ht=instagram.famd5-1.fna.fbcdn.net\\u0026_nc_ohc=8Do4vIwsvfEAX-8olbf\\u0026oh=b01c9ad4949918af3c138d8cca47a935\\u0026oe=5EDB40F6\",\"profile_pic_url_hd\":\"https://instagram.famd5-1.fna.fbcdn.net/v/t51.2885-19/s320x320/70126373_2833157200032247_882978944582680576_n.jpg?_nc_ht=instagram.famd5-1.fna.fbcdn.net\\u0026_nc_ohc=8Do4vIwsvfEAX-8olbf\\u0026oh=46df863063486319cadf076ff9925a19\\u0026oe=5EDCED86\",\"requested_by_viewer\":false,\"username\":\"raviramawat8\",\"connected_fb_page\":null,\"edge_felix_video_timeline\":{\"count\":0,\"page_info\":{\"has_next_page\":false,\"end_cursor\":null},\"edges\":[]},\"edge_owner_to_timeline_media\":{\"count\":10,\"page_info\":{\"has_next_page\":false,\"end_cursor\":null},\"edges\":[]},\"edge_saved_media\":{\"count\":0,\"page_info\":{\"has_next_page\":false,\"end_cursor\":null},\"edges\":[]},\"edge_media_collections\":{\"count\":0,\"page_info\":{\"has_next_page\":false,\"end_cursor\":null},\"edges\":[]}}},\"toast_content_on_load\":null}]},\"hostname\":\"www.instagram.com\",\"is_whitelisted_crawl_bot\":false,\"deployment_stage\":\"c2\",\"platform\":\"web\",\"nonce\":\"2citqFoebrykF5XltnAQxg==\",\"mid_pct\":84.73654,\"zero_data\":{},\"cache_schema_version\":3,\"server_checks\":{},\"knobx\":{\"4\":false,\"17\":false,\"20\":true,\"22\":true,\"23\":true,\"24\":true,\"25\":true,\"26\":true,\"27\":true},\"to_cache\":{\"gatekeepers\":{\"4\":true,\"5\":false,\"6\":false,\"7\":false,\"8\":false,\"9\":false,\"10\":false,\"11\":false,\"12\":false,\"13\":true,\"14\":true,\"15\":true,\"16\":true,\"18\":true,\"19\":false,\"23\":false,\"24\":false,\"26\":true,\"27\":false,\"28\":false,\"29\":true,\"31\":false,\"32\":true,\"34\":false,\"35\":false,\"38\":true,\"40\":true,\"41\":false,\"43\":true,\"59\":true,\"61\":false,\"62\":false,\"63\":false,\"64\":false,\"65\":false,\"67\":true,\"68\":false,\"69\":true,\"71\":false,\"72\":true,\"73\":false,\"74\":false,\"75\":true,\"77\":true,\"78\":true,\"79\":false,\"81\":false,\"82\":true,\"84\":false,\"86\":false,\"88\":true,\"91\":false,\"95\":true,\"97\":false,\"99\":false,\"100\":false,\"101\":true,\"102\":true,\"103\":false,\"104\":true,\"105\":true,\"106\":true,\"107\":false,\"108\":false,\"109\":false,\"110\":false,\"111\":false,\"112\":false,\"113\":true,\"114\":true,\"115\":false},\"qe\":{\"app_upsell\":{\"g\":\"\",\"p\":{}},\"igl_app_upsell\":{\"g\":\"\",\"p\":{}},\"notif\":{\"g\":\"\",\"p\":{}},\"onetaplogin\":{\"g\":\"\",\"p\":{}},\"felix_clear_fb_cookie\":{\"g\":\"\",\"p\":{}},\"felix_creation_duration_limits\":{\"g\":\"\",\"p\":{}},\"felix_creation_fb_crossposting\":{\"g\":\"\",\"p\":{}},\"felix_creation_fb_crossposting_v2\":{\"g\":\"\",\"p\":{}},\"felix_creation_validation\":{\"g\":\"\",\"p\":{}},\"post_options\":{\"g\":\"\",\"p\":{}},\"sticker_tray\":{\"g\":\"\",\"p\":{}},\"web_sentry\":{\"g\":\"\",\"p\":{}},\"0\":{\"p\":{\"9\":false},\"l\":{},\"qex\":true},\"2\":{\"p\":{\"0\":true},\"l\":{},\"qex\":true},\"12\":{\"p\":{\"0\":5},\"l\":{},\"qex\":true},\"13\":{\"p\":{\"0\":true},\"l\":{},\"qex\":true},\"16\":{\"p\":{\"0\":false},\"l\":{},\"qex\":true},\"17\":{\"p\":{\"1\":true},\"l\":{},\"qex\":true},\"21\":{\"p\":{\"2\":false},\"l\":{},\"qex\":true},\"22\":{\"p\":{\"1\":false,\"2\":8.0,\"3\":0.85,\"4\":0.95,\"10\":0.0,\"11\":15,\"12\":3,\"13\":false},\"l\":{},\"qex\":true},\"23\":{\"p\":{\"0\":false,\"1\":false},\"l\":{},\"qex\":true},\"25\":{\"p\":{},\"l\":{},\"qex\":true},\"26\":{\"p\":{\"0\":\"\"},\"l\":{},\"qex\":true},\"28\":{\"p\":{\"0\":false},\"l\":{},\"qex\":true},\"29\":{\"p\":{},\"l\":{},\"qex\":true},\"31\":{\"p\":{},\"l\":{},\"qex\":true},\"33\":{\"p\":{},\"l\":{},\"qex\":true},\"34\":{\"p\":{\"0\":false},\"l\":{},\"qex\":true},\"36\":{\"p\":{\"0\":true,\"1\":true,\"2\":false,\"3\":false,\"4\":false},\"l\":{},\"qex\":true},\"37\":{\"p\":{\"0\":false},\"l\":{},\"qex\":true},\"39\":{\"p\":{\"0\":false,\"6\":false,\"7\":false,\"8\":false,\"14\":false},\"l\":{},\"qex\":true},\"41\":{\"p\":{\"3\":true},\"l\":{},\"qex\":true},\"42\":{\"p\":{\"0\":true},\"l\":{},\"qex\":true},\"43\":{\"p\":{\"0\":false,\"1\":false,\"2\":false},\"l\":{},\"qex\":true},\"44\":{\"p\":{\"1\":\"inside_media\",\"2\":0.2},\"l\":{},\"qex\":true},\"45\":{\"p\":{\"12\":false,\"13\":false,\"17\":0,\"18\":false,\"19\":2,\"26\":\"ver_3\",\"32\":false,\"33\":false,\"35\":false,\"36\":\"control\"},\"l\":{\"26\":true},\"qex\":true},\"46\":{\"p\":{\"0\":false},\"l\":{},\"qex\":true},\"47\":{\"p\":{\"0\":true,\"1\":true,\"2\":false,\"3\":false,\"4\":false,\"6\":false,\"8\":false,\"9\":false,\"10\":false,\"11\":false},\"l\":{},\"qex\":true},\"49\":{\"p\":{\"0\":false},\"l\":{},\"qex\":true},\"50\":{\"p\":{\"0\":false},\"l\":{},\"qex\":true},\"54\":{\"p\":{\"0\":false},\"l\":{},\"qex\":true},\"55\":{\"p\":{\"0\":false},\"l\":{},\"qex\":true},\"58\":{\"p\":{\"0\":0.0,\"1\":false},\"l\":{},\"qex\":true},\"59\":{\"p\":{\"0\":true},\"l\":{},\"qex\":true},\"62\":{\"p\":{\"0\":false},\"l\":{},\"qex\":true},\"65\":{\"p\":{},\"l\":{},\"qex\":true},\"66\":{\"p\":{\"0\":false},\"l\":{},\"qex\":true},\"67\":{\"p\":{\"0\":true,\"1\":true,\"2\":true,\"3\":true,\"4\":false,\"5\":true,\"6\":false,\"7\":false,\"8\":false},\"l\":{\"4\":true,\"5\":true},\"qex\":true},\"68\":{\"p\":{\"0\":false},\"l\":{\"0\":true},\"qex\":true},\"69\":{\"p\":{\"0\":false},\"l\":{},\"qex\":true},\"70\":{\"p\":{\"1\":\"Instagram\\u306f\\u30a2\\u30d7\\u30ea\\u3067\\u3088\\u308a\\u5feb\\u9069\\u306b\\u3054\\u5229\\u7528\\u306b\\u306a\\u308c\\u307e\\u3059\",\"2\":\"\\u30a2\\u30d7\\u30ea\\u306b\\u306f\\u3088\\u308a\\u591a\\u304f\\u306e\\u30ab\\u30e1\\u30e9\\u30a8\\u30d5\\u30a7\\u30af\\u30c8\\u3084\\u30b9\\u30bf\\u30f3\\u30d7\\u304c\\u3042\\u308a\\u307e\\u3059\\u3002\\u30e1\\u30c3\\u30bb\\u30fc\\u30b8\\u3092\\u9001\\u4fe1\\u3059\\u308b\\u65b9\\u6cd5\\u3082\\u3088\\u308a\\u591a\\u304f\\u3042\\u308a\\u307e\\u3059\\u3002\",\"3\":\"\\u30a2\\u30d7\\u30ea\\u3092\\u5229\\u7528\"},\"l\":{},\"qex\":true},\"71\":{\"p\":{\"1\":\"^/explore/.*|^/accounts/activity/$\"},\"l\":{},\"qex\":true},\"72\":{\"p\":{\"0\":false,\"1\":false,\"2\":false,\"3\":false,\"4\":false},\"l\":{\"1\":true,\"2\":true},\"qex\":true},\"73\":{\"p\":{\"0\":false},\"l\":{},\"qex\":true},\"74\":{\"p\":{\"1\":true,\"2\":false,\"3\":true,\"4\":false,\"7\":false,\"9\":true,\"12\":false},\"l\":{},\"qex\":true},\"75\":{\"p\":{\"0\":true,\"1\":false},\"l\":{},\"qex\":true},\"77\":{\"p\":{\"1\":false},\"l\":{},\"qex\":true},\"78\":{\"p\":{\"0\":true,\"1\":true},\"l\":{},\"qex\":true},\"80\":{\"p\":{\"3\":true},\"l\":{},\"qex\":true},\"84\":{\"p\":{\"0\":true,\"1\":true,\"2\":true,\"3\":false,\"4\":true,\"5\":true,\"6\":false,\"8\":false},\"l\":{\"0\":true,\"3\":true},\"qex\":true},\"85\":{\"p\":{\"0\":false,\"1\":\"Pictures and Videos\"},\"l\":{},\"qex\":true},\"87\":{\"p\":{\"0\":true},\"l\":{},\"qex\":true},\"89\":{\"p\":{\"0\":false},\"l\":{},\"qex\":true},\"92\":{\"p\":{\"0\":36},\"l\":{},\"qex\":true},\"93\":{\"p\":{\"0\":true},\"l\":{},\"qex\":true},\"95\":{\"p\":{\"0\":false,\"1\":false},\"l\":{\"1\":true},\"qex\":true},\"96\":{\"p\":{\"0\":true},\"l\":{},\"qex\":true},\"97\":{\"p\":{},\"l\":{},\"qex\":true},\"98\":{\"p\":{\"1\":false},\"l\":{},\"qex\":true},\"99\":{\"p\":{\"0\":false},\"l\":{\"0\":true},\"qex\":true},\"100\":{\"p\":{},\"l\":{},\"qex\":true},\"101\":{\"p\":{\"0\":false,\"1\":false},\"l\":{},\"qex\":true},\"102\":{\"p\":{\"0\":true},\"l\":{},\"qex\":true},\"103\":{\"p\":{\"0\":false,\"1\":false},\"l\":{},\"qex\":true},\"104\":{\"p\":{\"0\":true},\"l\":{\"0\":true},\"qex\":true},\"105\":{\"p\":{\"0\":\"control\"},\"l\":{},\"qex\":true},\"108\":{\"p\":{\"0\":false,\"1\":false},\"l\":{},\"qex\":true},\"109\":{\"p\":{\"0\":true,\"1\":true,\"2\":true},\"l\":{\"0\":true,\"1\":true,\"2\":true},\"qex\":true},\"110\":{\"p\":{},\"l\":{},\"qex\":true},\"111\":{\"p\":{\"0\":false,\"1\":false},\"l\":{},\"qex\":true},\"112\":{\"p\":{\"0\":false},\"l\":{},\"qex\":true},\"113\":{\"p\":{\"0\":false,\"1\":false,\"2\":false,\"3\":false,\"4\":false},\"l\":{},\"qex\":true},\"114\":{\"p\":{\"1\":false},\"l\":{},\"qex\":true},\"115\":{\"p\":{\"0\":false,\"1\":false,\"2\":false,\"3\":false},\"l\":{},\"qex\":true}},\"probably_has_app\":false,\"cb\":false},\"device_id\":\"5D51D9BE-980F-4471-9710-A422DDF3CC06\",\"encryption\":{\"key_id\":\"130\",\"public_key\":\"597234aee11e7fe5ebc503502735795edae40dc1182b6410996a8381e020b617\",\"version\":\"6\"},\"is_dev\":false,\"rollout_hash\":\"c86f62fe51e1\",\"bundle_variant\":\"metro\",\"is_canary\":false};</script>\n",
       "<script type=\"text/javascript\">window.__initialDataLoaded(window._sharedData);</script>\n",
       "<script type=\"text/javascript\">var __BUNDLE_START_TIME__=this.nativePerformanceNow?nativePerformanceNow():Date.now(),__DEV__=false,process=this.process||{};process.env=process.env||{};process.env.NODE_ENV=process.env.NODE_ENV||\"production\";!(function(r){\"use strict\";function e(){return c=Object.create(null)}function t(r){var e=r,t=c[e];return t&&t.isInitialized?t.publicModule.exports:o(e,t)}function n(r){var e=r;if(c[e]&&c[e].importedDefault!==f)return c[e].importedDefault;var n=t(e),i=n&&n.__esModule?n.default:n;return c[e].importedDefault=i}function i(r){var e=r;if(c[e]&&c[e].importedAll!==f)return c[e].importedAll;var n,i=t(e);if(i&&i.__esModule)n=i;else{if(n={},i)for(var o in i)p.call(i,o)&&(n[o]=i[o]);n.default=i}return c[e].importedAll=n}function o(e,t){if(!s&&r.ErrorUtils){s=!0;var n;try{n=u(e,t)}catch(e){r.ErrorUtils.reportFatalError(e)}return s=!1,n}return u(e,t)}function l(r){return{segmentId:r>>>v,localId:r&h}}function u(e,o){if(!o&&g.length>0){var u=l(e),f=u.segmentId,p=u.localId,s=g[f];null!=s&&(s(p),o=c[e])}var v=r.nativeRequire;if(!o&&v){var h=l(e),I=h.segmentId;v(h.localId,I),o=c[e]}if(!o)throw a(e);if(o.hasError)throw d(e,o.error);o.isInitialized=!0;var _=o,w=_.factory,y=_.dependencyMap;try{var M=o.publicModule;if(M.id=e,m.length>0)for(var b=0;b<m.length;++b)m[b].cb(e,M);return w(r,t,n,i,M,M.exports,y),o.factory=void 0,o.dependencyMap=void 0,M.exports}catch(r){throw o.hasError=!0,o.error=r,o.isInitialized=!1,o.publicModule.exports=void 0,r}}function a(r){var e='Requiring unknown module \"'+r+'\".';return Error(e)}function d(r,e){var t=r;return Error('Requiring module \"'+t+'\", which threw an exception: '+e)}r.__r=t,r.__d=function(r,e,t){null==c[e]&&(c[e]={dependencyMap:t,factory:r,hasError:!1,importedAll:f,importedDefault:f,isInitialized:!1,publicModule:{exports:{}}})},r.__c=e,r.__registerSegment=function(r,e){g[r]=e};var c=e(),f={},p={}.hasOwnProperty;t.importDefault=n,t.importAll=i;var s=!1,v=16,h=65535;t.unpackModuleId=l,t.packModuleId=function(r){return(r.segmentId<<v)+r.localId};var m=[];t.registerHook=function(r){var e={cb:r};return m.push(e),{release:function(){for(var r=0;r<m.length;++r)if(m[r]===e){m.splice(r,1);break}}}};var g=[]})('undefined'!=typeof global?global:'undefined'!=typeof window?window:this);\n",
       "__s={\"js\":{\"146\":\"/static/bundles/metro/IGBloksRenderer.js/a88a21cb0783.js\",\"147\":\"/static/bundles/metro/EncryptionUtils.js/1890eb98ce0d.js\",\"148\":\"/static/bundles/metro/MobileStoriesLoginPage.js/f3eabf2daf37.js\",\"149\":\"/static/bundles/metro/DesktopStoriesLoginPage.js/90bccca6dfcd.js\",\"150\":\"/static/bundles/metro/AvenyFont.js/a4de03cd349f.js\",\"151\":\"/static/bundles/metro/DirectSearchUserContainer.js/19b08727523e.js\",\"152\":\"/static/bundles/metro/MobileStoriesPage.js/e8dedf2e86bf.js\",\"153\":\"/static/bundles/metro/DesktopStoriesPage.js/8779cf3867e4.js\",\"154\":\"/static/bundles/metro/ActivityFeedPage.js/3d8b52b8ad52.js\",\"155\":\"/static/bundles/metro/AdsSettingsPage.js/b1db651f5d5d.js\",\"156\":\"/static/bundles/metro/DonateCheckoutPage.js/db8d202429eb.js\",\"157\":\"/static/bundles/metro/CameraPage.js/70f5d5e80b90.js\",\"158\":\"/static/bundles/metro/SettingsModules.js/4d5b4502e72c.js\",\"159\":\"/static/bundles/metro/ContactHistoryPage.js/3017e1dcec6e.js\",\"160\":\"/static/bundles/metro/AccessToolPage.js/2e74d6016286.js\",\"161\":\"/static/bundles/metro/AccessToolViewAllPage.js/47a162d432c8.js\",\"162\":\"/static/bundles/metro/AccountPrivacyBugPage.js/e741594499a6.js\",\"163\":\"/static/bundles/metro/FirstPartyPlaintextPasswordLandingPage.js/c701d21c41a3.js\",\"164\":\"/static/bundles/metro/ThirdPartyPlaintextPasswordLandingPage.js/805d236da74f.js\",\"165\":\"/static/bundles/metro/ShoppingBagLandingPage.js/75cbd30964ec.js\",\"166\":\"/static/bundles/metro/PlaintextPasswordBugPage.js/d8d3d91aa9b1.js\",\"167\":\"/static/bundles/metro/PrivateAccountMadePublicBugPage.js/5c44b7bb4cd4.js\",\"168\":\"/static/bundles/metro/PublicAccountNotMadePrivateBugPage.js/59ffb8e12977.js\",\"169\":\"/static/bundles/metro/BlockedAccountsBugPage.js/f0bd6a29d063.js\",\"170\":\"/static/bundles/metro/AndroidBetaPrivacyBugPage.js/16f6f01e80be.js\",\"171\":\"/static/bundles/metro/DataControlsSupportPage.js/afddd3ebeec0.js\",\"172\":\"/static/bundles/metro/DataDownloadRequestPage.js/e12080e0455c.js\",\"173\":\"/static/bundles/metro/DataDownloadRequestConfirmPage.js/a9855b31210b.js\",\"174\":\"/static/bundles/metro/CheckpointUnderageAppealPage.js/ed87300b8ca1.js\",\"175\":\"/static/bundles/metro/AccountRecoveryLandingPage.js/4d4474ac4f43.js\",\"176\":\"/static/bundles/metro/ContactInvitesOptOutPage.js/ea85cecbc473.js\",\"177\":\"/static/bundles/metro/ParentalConsentPage.js/5196ecb1d2c8.js\",\"178\":\"/static/bundles/metro/ParentalConsentNotParentPage.js/9b4a97922d0e.js\",\"179\":\"/static/bundles/metro/TermsAcceptPage.js/754bcd127bc4.js\",\"180\":\"/static/bundles/metro/TermsUnblockPage.js/cdc31b583bf2.js\",\"181\":\"/static/bundles/metro/NewTermsConfirmPage.js/1fe8d71237b0.js\",\"182\":\"/static/bundles/metro/ContactInvitesOptOutStatusPage.js/c21b91cb70a5.js\",\"183\":\"/static/bundles/metro/CreationModules.js/95a35c0f99a5.js\",\"184\":\"/static/bundles/metro/StoryCreationPage.js/ab71bda24a2f.js\",\"185\":\"/static/bundles/metro/PostCommentInput.js/9011b8328d78.js\",\"188\":\"/static/bundles/metro/PostModalEntrypoint.js/6ecf538ff23d.js\",\"189\":\"/static/bundles/metro/PostComments.js/c0f56d4eb969.js\",\"190\":\"/static/bundles/metro/LikedByListContainer.js/0a413c97279c.js\",\"191\":\"/static/bundles/metro/CommentLikedByListContainer.js/3c578c620190.js\",\"192\":\"/static/bundles/metro/shaka-player.ui.js/a50cf147e453.js\",\"193\":\"/static/bundles/metro/DynamicExploreMediaPage.js/feeb01a8bfca.js\",\"194\":\"/static/bundles/metro/DiscoverMediaPageContainer.js/2b946d42c610.js\",\"195\":\"/static/bundles/metro/DiscoverPeoplePageContainer.js/9f12f1f21258.js\",\"196\":\"/static/bundles/metro/EmailConfirmationPage.js/52ddcf78e2b0.js\",\"197\":\"/static/bundles/metro/EmailReportBadPasswordResetPage.js/725fcc140581.js\",\"198\":\"/static/bundles/metro/FBSignupPage.js/24bdb42228cf.js\",\"199\":\"/static/bundles/metro/NewUserInterstitial.js/aa641d3d96c9.js\",\"200\":\"/static/bundles/metro/MultiStepSignupPage.js/3432a376d181.js\",\"201\":\"/static/bundles/metro/EmptyFeedPage.js/28d04e720961.js\",\"202\":\"/static/bundles/metro/NewUserActivatorsUnit.js/7913da751ed8.js\",\"203\":\"/static/bundles/metro/FeedEndSuggestedUserUnit.js/aa113ac01e81.js\",\"204\":\"/static/bundles/metro/FeedSidebarContainer.js/91967188cbd4.js\",\"205\":\"/static/bundles/metro/SuggestedUserFeedUnitContainer.js/9d478ea4f613.js\",\"206\":\"/static/bundles/metro/InFeedStoryTray.js/670eead6468a.js\",\"207\":\"/static/bundles/metro/FeedPageContainer.js/11f168587cf7.js\",\"208\":\"/static/bundles/metro/FollowListModal.js/a50775d66030.js\",\"209\":\"/static/bundles/metro/FollowListPage.js/d619a7a5c358.js\",\"210\":\"/static/bundles/metro/SimilarAccountsPage.js/d9e6c915a5df.js\",\"211\":\"/static/bundles/metro/LiveBroadcastPage.js/c4cbe2a9b0be.js\",\"212\":\"/static/bundles/metro/FalseInformationLandingPage.js/d4b40702c86f.js\",\"213\":\"/static/bundles/metro/LandingPage.js/8a694df7fbbb.js\",\"214\":\"/static/bundles/metro/LocationsDirectoryCountryPage.js/ddc73d7bb63f.js\",\"215\":\"/static/bundles/metro/LocationsDirectoryCityPage.js/86152f76ead7.js\",\"216\":\"/static/bundles/metro/LocationPageContainer.js/dfbee5184194.js\",\"217\":\"/static/bundles/metro/LocationsDirectoryLandingPage.js/4ad710f07dd6.js\",\"218\":\"/static/bundles/metro/LoginAndSignupPage.js/3bebaa8b188a.js\",\"219\":\"/static/bundles/metro/FXCalLinkingAuthForm.js/8e2ae5a6c5e6.js\",\"220\":\"/static/bundles/metro/UpdateIGAppForHelpPage.js/bd125bec71f5.js\",\"221\":\"/static/bundles/metro/ResetPasswordPageContainer.js/fd8531512589.js\",\"222\":\"/static/bundles/metro/MobileAllCommentsPage.js/4806b1cc008a.js\",\"223\":\"/static/bundles/metro/MediaChainingPageContainer.js/feba95337e89.js\",\"224\":\"/static/bundles/metro/PostPageContainer.js/9f70dcad40aa.js\",\"225\":\"/static/bundles/metro/ProfilesDirectoryLandingPage.js/a4806f43ff4b.js\",\"226\":\"/static/bundles/metro/HashtagsDirectoryLandingPage.js/9b6836701f03.js\",\"227\":\"/static/bundles/metro/SuggestedDirectoryLandingPage.js/daa88cbc8700.js\",\"228\":\"/static/bundles/metro/TagPageContainer.js/2d873cc6e1d8.js\",\"229\":\"/static/bundles/metro/PhoneConfirmPage.js/9a2609c4ed25.js\",\"230\":\"/static/bundles/metro/SimilarAccountsModal.js/ac6acddd4d71.js\",\"231\":\"/static/bundles/metro/ProfilePageContainer.js/9e1e9f06e7c2.js\",\"232\":\"/static/bundles/metro/HttpErrorPage.js/fa70b264bfa8.js\",\"233\":\"/static/bundles/metro/IGTVVideoDraftsPageContainer.js/9cd3d9c63e97.js\",\"234\":\"/static/bundles/metro/IGTVVideoUploadPageContainer.js/9c6471a376ec.js\",\"235\":\"/static/bundles/metro/OAuthPermissionsPage.js/a8d6de1dfb0f.js\",\"236\":\"/static/bundles/metro/MobileDirectPage.js/1acf0a7ee61a.js\",\"237\":\"/static/bundles/metro/DesktopDirectPage.js/3177bb1b90d7.js\",\"238\":\"/static/bundles/metro/GuidePage.js/f5388503bd14.js\",\"239\":\"/static/bundles/metro/OneTapUpsell.js/04a01f73c268.js\",\"240\":\"/static/bundles/metro/NametagLandingPage.js/d5dce9747fd2.js\",\"241\":\"/static/bundles/metro/LocalDevTransactionToolSelectorPage.js/3acfb9f9ffad.js\",\"242\":\"/static/bundles/metro/FBEAppStoreErrorPage.js/e6cbf0b28c2d.js\",\"243\":\"/static/bundles/metro/BloksShellPage.js/4d615f344c13.js\",\"244\":\"/static/bundles/metro/BusinessCategoryPageContainer.js/0861782e9ddb.js\",\"245\":\"/static/bundles/metro/ActivityFeedBox.js/329e4e486a67.js\",\"246\":\"/static/bundles/metro/DirectMQTT.js/ecf7fe9157aa.js\",\"247\":\"/static/bundles/metro/DebugInfoNub.js/0c8d973961cf.js\",\"249\":\"/static/bundles/metro/Consumer.js/c5fe9c12c0e9.js\",\"250\":\"/static/bundles/metro/Challenge.js/d92f7eb949bb.js\",\"251\":\"/static/bundles/metro/NotificationLandingPage.js/4d6d6c3189c0.js\",\"268\":\"/static/bundles/metro/EmbedAsyncLogger.js/45561d269417.js\",\"269\":\"/static/bundles/metro/EmbedVideoWrapper.js/c8fd9c5fc24f.js\",\"270\":\"/static/bundles/metro/EmbedSidecarEntrypoint.js/97b36c79801f.js\",\"271\":\"/static/bundles/metro/EmbedRich.js/355a69926fed.js\"},\"css\":{\"146\":\"/static/bundles/metro/IGBloksRenderer.css/52baaabd26d9.css\",\"148\":\"/static/bundles/metro/MobileStoriesLoginPage.css/099b16d49e58.css\",\"149\":\"/static/bundles/metro/DesktopStoriesLoginPage.css/70cbcb54314e.css\",\"150\":\"/static/bundles/metro/AvenyFont.css/25fd69ff2266.css\",\"151\":\"/static/bundles/metro/DirectSearchUserContainer.css/c999b2120675.css\",\"152\":\"/static/bundles/metro/MobileStoriesPage.css/1140c49a52dc.css\",\"153\":\"/static/bundles/metro/DesktopStoriesPage.css/1917c6e966b0.css\",\"154\":\"/static/bundles/metro/ActivityFeedPage.css/f080904d0ca9.css\",\"155\":\"/static/bundles/metro/AdsSettingsPage.css/c907dad5cc26.css\",\"156\":\"/static/bundles/metro/DonateCheckoutPage.css/c907dad5cc26.css\",\"157\":\"/static/bundles/metro/CameraPage.css/6a60610e77f3.css\",\"158\":\"/static/bundles/metro/SettingsModules.css/240082b7509c.css\",\"159\":\"/static/bundles/metro/ContactHistoryPage.css/6450a9697d3b.css\",\"160\":\"/static/bundles/metro/AccessToolPage.css/34921b2f36dd.css\",\"161\":\"/static/bundles/metro/AccessToolViewAllPage.css/ddca305d0cd5.css\",\"162\":\"/static/bundles/metro/AccountPrivacyBugPage.css/beafbf8dca83.css\",\"165\":\"/static/bundles/metro/ShoppingBagLandingPage.css/9ea9da8878b6.css\",\"170\":\"/static/bundles/metro/AndroidBetaPrivacyBugPage.css/e8cfdb9e50b0.css\",\"171\":\"/static/bundles/metro/DataControlsSupportPage.css/71a52e3d8bd5.css\",\"172\":\"/static/bundles/metro/DataDownloadRequestPage.css/323fc7726373.css\",\"173\":\"/static/bundles/metro/DataDownloadRequestConfirmPage.css/1e9cdea74d83.css\",\"174\":\"/static/bundles/metro/CheckpointUnderageAppealPage.css/93e7a8868931.css\",\"175\":\"/static/bundles/metro/AccountRecoveryLandingPage.css/f7510a47f4e7.css\",\"176\":\"/static/bundles/metro/ContactInvitesOptOutPage.css/4c523a7df813.css\",\"177\":\"/static/bundles/metro/ParentalConsentPage.css/a6133b7afbfe.css\",\"178\":\"/static/bundles/metro/ParentalConsentNotParentPage.css/a268c09f2b2c.css\",\"179\":\"/static/bundles/metro/TermsAcceptPage.css/f93160eb7986.css\",\"180\":\"/static/bundles/metro/TermsUnblockPage.css/afc3eea7c109.css\",\"181\":\"/static/bundles/metro/NewTermsConfirmPage.css/5bd6ec78e196.css\",\"182\":\"/static/bundles/metro/ContactInvitesOptOutStatusPage.css/7d5282ddec05.css\",\"183\":\"/static/bundles/metro/CreationModules.css/afb08a63054e.css\",\"184\":\"/static/bundles/metro/StoryCreationPage.css/3a3ef870cddd.css\",\"185\":\"/static/bundles/metro/PostCommentInput.css/58b93ef96160.css\",\"188\":\"/static/bundles/metro/PostModalEntrypoint.css/22326130afec.css\",\"189\":\"/static/bundles/metro/PostComments.css/2c4993169770.css\",\"190\":\"/static/bundles/metro/LikedByListContainer.css/cfbb06eb7d39.css\",\"191\":\"/static/bundles/metro/CommentLikedByListContainer.css/cfbb06eb7d39.css\",\"193\":\"/static/bundles/metro/DynamicExploreMediaPage.css/60b4228cdeda.css\",\"194\":\"/static/bundles/metro/DiscoverMediaPageContainer.css/222bbb0e071e.css\",\"195\":\"/static/bundles/metro/DiscoverPeoplePageContainer.css/744bc0f41de4.css\",\"196\":\"/static/bundles/metro/EmailConfirmationPage.css/d3ff48c961de.css\",\"197\":\"/static/bundles/metro/EmailReportBadPasswordResetPage.css/e4462019534b.css\",\"198\":\"/static/bundles/metro/FBSignupPage.css/771caa625ac6.css\",\"199\":\"/static/bundles/metro/NewUserInterstitial.css/27fbefcbd7f3.css\",\"200\":\"/static/bundles/metro/MultiStepSignupPage.css/dd57d180acc9.css\",\"201\":\"/static/bundles/metro/EmptyFeedPage.css/aca00e00c692.css\",\"203\":\"/static/bundles/metro/FeedEndSuggestedUserUnit.css/97ff07a6ffa3.css\",\"204\":\"/static/bundles/metro/FeedSidebarContainer.css/9b69aad1a0d5.css\",\"205\":\"/static/bundles/metro/SuggestedUserFeedUnitContainer.css/75311a87837c.css\",\"206\":\"/static/bundles/metro/InFeedStoryTray.css/20f3c1f5f0d0.css\",\"207\":\"/static/bundles/metro/FeedPageContainer.css/361c3372e1f8.css\",\"208\":\"/static/bundles/metro/FollowListModal.css/ce5341511d05.css\",\"209\":\"/static/bundles/metro/FollowListPage.css/6be4a4ddbbac.css\",\"210\":\"/static/bundles/metro/SimilarAccountsPage.css/6bf9e15eccca.css\",\"211\":\"/static/bundles/metro/LiveBroadcastPage.css/5edbcea0bea7.css\",\"213\":\"/static/bundles/metro/LandingPage.css/2638d4caf1ef.css\",\"214\":\"/static/bundles/metro/LocationsDirectoryCountryPage.css/4dacfdb3fce0.css\",\"215\":\"/static/bundles/metro/LocationsDirectoryCityPage.css/4dacfdb3fce0.css\",\"216\":\"/static/bundles/metro/LocationPageContainer.css/369687ceea0e.css\",\"217\":\"/static/bundles/metro/LocationsDirectoryLandingPage.css/8d8beac67daf.css\",\"218\":\"/static/bundles/metro/LoginAndSignupPage.css/e92018d5650a.css\",\"219\":\"/static/bundles/metro/FXCalLinkingAuthForm.css/5755af3a0372.css\",\"220\":\"/static/bundles/metro/UpdateIGAppForHelpPage.css/6fb2336f846b.css\",\"221\":\"/static/bundles/metro/ResetPasswordPageContainer.css/68d92b16f480.css\",\"222\":\"/static/bundles/metro/MobileAllCommentsPage.css/75889bbbe1a0.css\",\"223\":\"/static/bundles/metro/MediaChainingPageContainer.css/74cd36ea6d75.css\",\"224\":\"/static/bundles/metro/PostPageContainer.css/3dda2329cf5e.css\",\"225\":\"/static/bundles/metro/ProfilesDirectoryLandingPage.css/19082083377e.css\",\"226\":\"/static/bundles/metro/HashtagsDirectoryLandingPage.css/19082083377e.css\",\"227\":\"/static/bundles/metro/SuggestedDirectoryLandingPage.css/19082083377e.css\",\"228\":\"/static/bundles/metro/TagPageContainer.css/8b1cfa99622d.css\",\"229\":\"/static/bundles/metro/PhoneConfirmPage.css/a33c7f8186d0.css\",\"231\":\"/static/bundles/metro/ProfilePageContainer.css/7e662aaf18d1.css\",\"232\":\"/static/bundles/metro/HttpErrorPage.css/97acfee23c4f.css\",\"233\":\"/static/bundles/metro/IGTVVideoDraftsPageContainer.css/a7130ff308dd.css\",\"234\":\"/static/bundles/metro/IGTVVideoUploadPageContainer.css/4ed053744e2c.css\",\"235\":\"/static/bundles/metro/OAuthPermissionsPage.css/9cf84c997572.css\",\"236\":\"/static/bundles/metro/MobileDirectPage.css/b680ece5d2ae.css\",\"237\":\"/static/bundles/metro/DesktopDirectPage.css/cef36081640a.css\",\"238\":\"/static/bundles/metro/GuidePage.css/6338da7e57fa.css\",\"239\":\"/static/bundles/metro/OneTapUpsell.css/c084c82eaf3b.css\",\"240\":\"/static/bundles/metro/NametagLandingPage.css/f5a715b37996.css\",\"241\":\"/static/bundles/metro/LocalDevTransactionToolSelectorPage.css/3f8f9bb4c8a7.css\",\"242\":\"/static/bundles/metro/FBEAppStoreErrorPage.css/37c4f5efdab6.css\",\"243\":\"/static/bundles/metro/BloksShellPage.css/52baaabd26d9.css\",\"244\":\"/static/bundles/metro/BusinessCategoryPageContainer.css/ebd7d25e50c7.css\",\"245\":\"/static/bundles/metro/ActivityFeedBox.css/41cb58da56d7.css\",\"247\":\"/static/bundles/metro/DebugInfoNub.css/f749d3fa9077.css\",\"249\":\"/static/bundles/metro/Consumer.css/894f617d9b9a.css\",\"250\":\"/static/bundles/metro/Challenge.css/0e99f3ee09ef.css\",\"269\":\"/static/bundles/metro/EmbedVideoWrapper.css/6f91cd38a718.css\",\"270\":\"/static/bundles/metro/EmbedSidecarEntrypoint.css/48b6e2cac700.css\",\"271\":\"/static/bundles/metro/EmbedRich.css/6d03fbaaac3a.css\"}}</script>\n",
       "<script crossorigin=\"anonymous\" src=\"/static/bundles/metro/Polyfills.js/5049a8b4b2f2.js\" type=\"text/javascript\"></script>\n",
       "<script crossorigin=\"anonymous\" src=\"/static/bundles/metro/Vendor.js/5a56d51ae30f.js\" type=\"text/javascript\"></script>\n",
       "<script crossorigin=\"anonymous\" src=\"/static/bundles/metro/en_US.js/1717ee283d0a.js\" type=\"text/javascript\"></script>\n",
       "<script crossorigin=\"anonymous\" src=\"/static/bundles/metro/ConsumerLibCommons.js/8734a737278e.js\" type=\"text/javascript\"></script>\n",
       "<script crossorigin=\"anonymous\" src=\"/static/bundles/metro/ConsumerUICommons.js/2c3926228c45.js\" type=\"text/javascript\"></script>\n",
       "<script crossorigin=\"anonymous\" src=\"/static/bundles/metro/ConsumerAsyncCommons.js/4a835d081fbd.js\" type=\"text/javascript\"></script>\n",
       "<script async=\"\" charset=\"utf-8\" crossorigin=\"anonymous\" src=\"/static/bundles/metro/Consumer.js/c5fe9c12c0e9.js\" type=\"text/javascript\"></script>\n",
       "<script async=\"\" charset=\"utf-8\" crossorigin=\"anonymous\" src=\"/static/bundles/metro/ProfilePageContainer.js/9e1e9f06e7c2.js\" type=\"text/javascript\"></script>\n",
       "<script type=\"text/javascript\">\n",
       "(function(){\n",
       "  function normalizeError(err) {\n",
       "    var errorInfo = err.error || {};\n",
       "    var getConfigProp = function(propName, defaultValueIfNotTruthy) {\n",
       "      var propValue = window._sharedData && window._sharedData[propName];\n",
       "      return propValue ? propValue : defaultValueIfNotTruthy;\n",
       "    };\n",
       "    return {\n",
       "      line: err.line || errorInfo.message || 0,\n",
       "      column: err.column || 0,\n",
       "      name: 'InitError',\n",
       "      message: err.message || errorInfo.message || '',\n",
       "      script: errorInfo.script || '',\n",
       "      stack: errorInfo.stackTrace || errorInfo.stack || '',\n",
       "      timestamp: Date.now(),\n",
       "      ref: window.location.href,\n",
       "      deployment_stage: getConfigProp('deployment_stage', ''),\n",
       "      is_canary: getConfigProp('is_canary', false),\n",
       "      rollout_hash: getConfigProp('rollout_hash', ''),\n",
       "      is_prerelease: window.__PRERELEASE__ || false,\n",
       "      bundle_variant: getConfigProp('bundle_variant', null),\n",
       "      request_url: err.url || window.location.href,\n",
       "      response_status_code: errorInfo.statusCode || 0\n",
       "    }\n",
       "  }\n",
       "  window.addEventListener('load', function(){\n",
       "    if (window.__bufferedErrors && window.__bufferedErrors.length) {\n",
       "      if (window.caches && window.caches.keys && window.caches.delete) {\n",
       "        window.caches.keys().then(function(keys) {\n",
       "          keys.forEach(function(key) {\n",
       "            window.caches.delete(key)\n",
       "          })\n",
       "        })\n",
       "      }\n",
       "      window.__bufferedErrors.map(function(error) {\n",
       "        return normalizeError(error)\n",
       "      }).forEach(function(normalizedError) {\n",
       "        var request = new XMLHttpRequest();\n",
       "        request.open('POST', '/client_error/', true);\n",
       "        request.setRequestHeader('Content-Type', 'application/json; charset=utf-8');\n",
       "        request.send(JSON.stringify(normalizedError));\n",
       "      })\n",
       "    }\n",
       "  })\n",
       "}());\n",
       "</script>\n",
       "</body>\n",
       "</html>"
      ]
     },
     "execution_count": 14,
     "metadata": {},
     "output_type": "execute_result"
    }
   ],
   "source": [
    "data"
   ]
  },
  {
   "cell_type": "code",
   "execution_count": 15,
   "metadata": {},
   "outputs": [],
   "source": [
    "url = \"http://econpy.pythonanywhere.com/ex/001.html\""
   ]
  },
  {
   "cell_type": "code",
   "execution_count": 16,
   "metadata": {},
   "outputs": [],
   "source": [
    "response = request(url)"
   ]
  },
  {
   "cell_type": "code",
   "execution_count": 17,
   "metadata": {},
   "outputs": [],
   "source": [
    "data=soup(response)"
   ]
  },
  {
   "cell_type": "code",
   "execution_count": 25,
   "metadata": {},
   "outputs": [],
   "source": [
    "html=list(data.children)[1]"
   ]
  },
  {
   "cell_type": "code",
   "execution_count": 31,
   "metadata": {},
   "outputs": [],
   "source": [
    "body =list(html.children)[3]"
   ]
  },
  {
   "cell_type": "code",
   "execution_count": 45,
   "metadata": {},
   "outputs": [],
   "source": [
    "div=list(body.children)[3]"
   ]
  },
  {
   "cell_type": "code",
   "execution_count": 55,
   "metadata": {},
   "outputs": [],
   "source": [
    "b1=list(div.children)[1].get_text()"
   ]
  },
  {
   "cell_type": "code",
   "execution_count": 47,
   "metadata": {},
   "outputs": [
    {
     "data": {
      "text/plain": [
       "bs4.element.Tag"
      ]
     },
     "execution_count": 47,
     "metadata": {},
     "output_type": "execute_result"
    }
   ],
   "source": [
    "type(div)"
   ]
  },
  {
   "cell_type": "code",
   "execution_count": 56,
   "metadata": {},
   "outputs": [
    {
     "data": {
      "text/plain": [
       "'Carson Busses'"
      ]
     },
     "execution_count": 56,
     "metadata": {},
     "output_type": "execute_result"
    }
   ],
   "source": [
    "b1"
   ]
  },
  {
   "cell_type": "code",
   "execution_count": 59,
   "metadata": {},
   "outputs": [
    {
     "data": {
      "text/plain": [
       "'\\nCarson Busses\\n$29.95\\n'"
      ]
     },
     "execution_count": 59,
     "metadata": {},
     "output_type": "execute_result"
    }
   ],
   "source": [
    "div.get_text()"
   ]
  },
  {
   "cell_type": "code",
   "execution_count": 70,
   "metadata": {},
   "outputs": [
    {
     "data": {
      "text/plain": [
       "[<div title=\"buyer-name\">Carson Busses</div>,\n",
       " <div title=\"buyer-name\">Earl E. Byrd</div>,\n",
       " <div title=\"buyer-name\">Patty Cakes</div>,\n",
       " <div title=\"buyer-name\">Derri Anne Connecticut</div>,\n",
       " <div title=\"buyer-name\">Moe Dess</div>,\n",
       " <div title=\"buyer-name\">Leda Doggslife</div>,\n",
       " <div title=\"buyer-name\">Dan Druff</div>,\n",
       " <div title=\"buyer-name\">Al Fresco</div>,\n",
       " <div title=\"buyer-name\">Ido Hoe</div>,\n",
       " <div title=\"buyer-name\">Howie Kisses</div>,\n",
       " <div title=\"buyer-name\">Len Lease</div>,\n",
       " <div title=\"buyer-name\">Phil Meup</div>,\n",
       " <div title=\"buyer-name\">Ira Pent</div>,\n",
       " <div title=\"buyer-name\">Ben D. Rules</div>,\n",
       " <div title=\"buyer-name\">Ave Sectomy</div>,\n",
       " <div title=\"buyer-name\">Gary Shattire</div>,\n",
       " <div title=\"buyer-name\">Bobbi Soks</div>,\n",
       " <div title=\"buyer-name\">Sheila Takya</div>,\n",
       " <div title=\"buyer-name\">Rose Tattoo</div>,\n",
       " <div title=\"buyer-name\">Moe Tell</div>]"
      ]
     },
     "execution_count": 70,
     "metadata": {},
     "output_type": "execute_result"
    }
   ],
   "source": [
    "html.find_all(name='div',title='buyer-name')"
   ]
  },
  {
   "cell_type": "code",
   "execution_count": 71,
   "metadata": {},
   "outputs": [
    {
     "data": {
      "text/plain": [
       "[<span class=\"item-price\">$29.95</span>,\n",
       " <span class=\"item-price\">$8.37</span>,\n",
       " <span class=\"item-price\">$15.26</span>,\n",
       " <span class=\"item-price\">$19.25</span>,\n",
       " <span class=\"item-price\">$19.25</span>,\n",
       " <span class=\"item-price\">$13.99</span>,\n",
       " <span class=\"item-price\">$31.57</span>,\n",
       " <span class=\"item-price\">$8.49</span>,\n",
       " <span class=\"item-price\">$14.47</span>,\n",
       " <span class=\"item-price\">$15.86</span>,\n",
       " <span class=\"item-price\">$11.11</span>,\n",
       " <span class=\"item-price\">$15.98</span>,\n",
       " <span class=\"item-price\">$16.27</span>,\n",
       " <span class=\"item-price\">$7.50</span>,\n",
       " <span class=\"item-price\">$50.85</span>,\n",
       " <span class=\"item-price\">$14.26</span>,\n",
       " <span class=\"item-price\">$5.68</span>,\n",
       " <span class=\"item-price\">$15.00</span>,\n",
       " <span class=\"item-price\">$114.07</span>,\n",
       " <span class=\"item-price\">$10.09</span>]"
      ]
     },
     "execution_count": 71,
     "metadata": {},
     "output_type": "execute_result"
    }
   ],
   "source": [
    "html.find_all(name='span',class_='item-price')"
   ]
  },
  {
   "cell_type": "code",
   "execution_count": 63,
   "metadata": {},
   "outputs": [
    {
     "data": {
      "text/plain": [
       "<html>\n",
       "<head>\n",
       "<meta charset=\"utf-8\"/>\n",
       "<title>Items 1 to 20 -- Example Page 1</title>\n",
       "<script type=\"text/javascript\">\n",
       "      var _gaq = _gaq || [];\n",
       "      _gaq.push(['_setAccount', 'UA-23648880-1']);\n",
       "      _gaq.push(['_trackPageview']);\n",
       "      _gaq.push(['_setDomainName', 'econpy.org']);\n",
       "    </script>\n",
       "</head>\n",
       "<body>\n",
       "<div align=\"center\">1, <a href=\"http://econpy.pythonanywhere.com/ex/002.html\">[<font color=\"green\">2</font>]</a>, <a href=\"http://econpy.pythonanywhere.com/ex/003.html\">[<font color=\"green\">3</font>]</a>, <a href=\"http://econpy.pythonanywhere.com/ex/004.html\">[<font color=\"green\">4</font>]</a>, <a href=\"http://econpy.pythonanywhere.com/ex/005.html\">[<font color=\"green\">5</font>]</a></div>\n",
       "<div title=\"buyer-info\">\n",
       "<div title=\"buyer-name\">Carson Busses</div>\n",
       "<span class=\"item-price\">$29.95</span><br/>\n",
       "</div>\n",
       "<div title=\"buyer-info\">\n",
       "<div title=\"buyer-name\">Earl E. Byrd</div>\n",
       "<span class=\"item-price\">$8.37</span><br/>\n",
       "</div>\n",
       "<div title=\"buyer-info\">\n",
       "<div title=\"buyer-name\">Patty Cakes</div>\n",
       "<span class=\"item-price\">$15.26</span><br/>\n",
       "</div>\n",
       "<div title=\"buyer-info\">\n",
       "<div title=\"buyer-name\">Derri Anne Connecticut</div>\n",
       "<span class=\"item-price\">$19.25</span><br/>\n",
       "</div>\n",
       "<div title=\"buyer-info\">\n",
       "<div title=\"buyer-name\">Moe Dess</div>\n",
       "<span class=\"item-price\">$19.25</span><br/>\n",
       "</div>\n",
       "<div title=\"buyer-info\">\n",
       "<div title=\"buyer-name\">Leda Doggslife</div>\n",
       "<span class=\"item-price\">$13.99</span><br/>\n",
       "</div>\n",
       "<div title=\"buyer-info\">\n",
       "<div title=\"buyer-name\">Dan Druff</div>\n",
       "<span class=\"item-price\">$31.57</span><br/>\n",
       "</div>\n",
       "<div title=\"buyer-info\">\n",
       "<div title=\"buyer-name\">Al Fresco</div>\n",
       "<span class=\"item-price\">$8.49</span><br/>\n",
       "</div>\n",
       "<div title=\"buyer-info\">\n",
       "<div title=\"buyer-name\">Ido Hoe</div>\n",
       "<span class=\"item-price\">$14.47</span><br/>\n",
       "</div>\n",
       "<div title=\"buyer-info\">\n",
       "<div title=\"buyer-name\">Howie Kisses</div>\n",
       "<span class=\"item-price\">$15.86</span><br/>\n",
       "</div>\n",
       "<div title=\"buyer-info\">\n",
       "<div title=\"buyer-name\">Len Lease</div>\n",
       "<span class=\"item-price\">$11.11</span><br/>\n",
       "</div>\n",
       "<div title=\"buyer-info\">\n",
       "<div title=\"buyer-name\">Phil Meup</div>\n",
       "<span class=\"item-price\">$15.98</span><br/>\n",
       "</div>\n",
       "<div title=\"buyer-info\">\n",
       "<div title=\"buyer-name\">Ira Pent</div>\n",
       "<span class=\"item-price\">$16.27</span><br/>\n",
       "</div>\n",
       "<div title=\"buyer-info\">\n",
       "<div title=\"buyer-name\">Ben D. Rules</div>\n",
       "<span class=\"item-price\">$7.50</span><br/>\n",
       "</div>\n",
       "<div title=\"buyer-info\">\n",
       "<div title=\"buyer-name\">Ave Sectomy</div>\n",
       "<span class=\"item-price\">$50.85</span><br/>\n",
       "</div>\n",
       "<div title=\"buyer-info\">\n",
       "<div title=\"buyer-name\">Gary Shattire</div>\n",
       "<span class=\"item-price\">$14.26</span><br/>\n",
       "</div>\n",
       "<div title=\"buyer-info\">\n",
       "<div title=\"buyer-name\">Bobbi Soks</div>\n",
       "<span class=\"item-price\">$5.68</span><br/>\n",
       "</div>\n",
       "<div title=\"buyer-info\">\n",
       "<div title=\"buyer-name\">Sheila Takya</div>\n",
       "<span class=\"item-price\">$15.00</span><br/>\n",
       "</div>\n",
       "<div title=\"buyer-info\">\n",
       "<div title=\"buyer-name\">Rose Tattoo</div>\n",
       "<span class=\"item-price\">$114.07</span><br/>\n",
       "</div>\n",
       "<div title=\"buyer-info\">\n",
       "<div title=\"buyer-name\">Moe Tell</div>\n",
       "<span class=\"item-price\">$10.09</span><br/>\n",
       "</div>\n",
       "<script type=\"text/javascript\">  (function() {\n",
       "    var ga = document.createElement('script');     ga.type = 'text/javascript'; ga.async = true;\n",
       "    ga.src = ('https:'   == document.location.protocol ? 'https://ssl'   : 'http://www') + '.google-analytics.com/ga.js';\n",
       "    var s = document.getElementsByTagName('script')[0]; s.parentNode.insertBefore(ga, s);\n",
       "    })();\n",
       "  </script>\n",
       "</body>\n",
       "</html>"
      ]
     },
     "execution_count": 63,
     "metadata": {},
     "output_type": "execute_result"
    }
   ],
   "source": [
    "html"
   ]
  },
  {
   "cell_type": "code",
   "execution_count": null,
   "metadata": {},
   "outputs": [],
   "source": []
  },
  {
   "cell_type": "code",
   "execution_count": null,
   "metadata": {},
   "outputs": [],
   "source": []
  }
 ],
 "metadata": {
  "kernelspec": {
   "display_name": "Python 3",
   "language": "python",
   "name": "python3"
  },
  "language_info": {
   "codemirror_mode": {
    "name": "ipython",
    "version": 3
   },
   "file_extension": ".py",
   "mimetype": "text/x-python",
   "name": "python",
   "nbconvert_exporter": "python",
   "pygments_lexer": "ipython3",
   "version": "3.7.6"
  }
 },
 "nbformat": 4,
 "nbformat_minor": 4
}
