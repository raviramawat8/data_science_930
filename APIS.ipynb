{
 "cells": [
  {
   "cell_type": "code",
   "execution_count": 1,
   "metadata": {},
   "outputs": [],
   "source": [
    "d = {\"Name\":\"Python\",\n",
    "     \"Father\":\"Guido Van Rossum\",\n",
    "     \"Frameworks\":['Django','Pyramid','Flask'],\n",
    "     \"Versions\":[1,2,3],\n",
    "     \"programming\":[\"scripting\",\"OOPS\",\"Functional Programming\"]}"
   ]
  },
  {
   "cell_type": "code",
   "execution_count": 2,
   "metadata": {},
   "outputs": [],
   "source": [
    "f = open(\"c:/Users/HP-PC/Desktop/data.json\",'w')"
   ]
  },
  {
   "cell_type": "code",
   "execution_count": 4,
   "metadata": {},
   "outputs": [],
   "source": [
    "s = str(d)"
   ]
  },
  {
   "cell_type": "code",
   "execution_count": 5,
   "metadata": {},
   "outputs": [
    {
     "data": {
      "text/plain": [
       "181"
      ]
     },
     "execution_count": 5,
     "metadata": {},
     "output_type": "execute_result"
    }
   ],
   "source": [
    "f.write(s)"
   ]
  },
  {
   "cell_type": "code",
   "execution_count": 6,
   "metadata": {},
   "outputs": [],
   "source": [
    "f.close()"
   ]
  },
  {
   "cell_type": "code",
   "execution_count": 7,
   "metadata": {},
   "outputs": [],
   "source": [
    "f = open(\"c:/Users/HP-PC/Desktop/data.json\",'r')"
   ]
  },
  {
   "cell_type": "code",
   "execution_count": 8,
   "metadata": {},
   "outputs": [],
   "source": [
    "data=f.read()"
   ]
  },
  {
   "cell_type": "code",
   "execution_count": 10,
   "metadata": {},
   "outputs": [
    {
     "name": "stdout",
     "output_type": "stream",
     "text": [
      "<class 'str'>\n"
     ]
    }
   ],
   "source": [
    "print(type(data))"
   ]
  },
  {
   "cell_type": "code",
   "execution_count": 12,
   "metadata": {},
   "outputs": [
    {
     "data": {
      "text/plain": [
       "['scripting', 'OOPS', 'Functional Programming']"
      ]
     },
     "execution_count": 12,
     "metadata": {},
     "output_type": "execute_result"
    }
   ],
   "source": [
    "d['programming']"
   ]
  },
  {
   "cell_type": "code",
   "execution_count": 13,
   "metadata": {},
   "outputs": [
    {
     "ename": "TypeError",
     "evalue": "string indices must be integers",
     "output_type": "error",
     "traceback": [
      "\u001b[1;31m---------------------------------------------------------------------------\u001b[0m",
      "\u001b[1;31mTypeError\u001b[0m                                 Traceback (most recent call last)",
      "\u001b[1;32m<ipython-input-13-9b1b2920b2b0>\u001b[0m in \u001b[0;36m<module>\u001b[1;34m\u001b[0m\n\u001b[1;32m----> 1\u001b[1;33m \u001b[0mdata\u001b[0m\u001b[1;33m[\u001b[0m\u001b[1;34m'programming'\u001b[0m\u001b[1;33m]\u001b[0m\u001b[1;33m\u001b[0m\u001b[1;33m\u001b[0m\u001b[0m\n\u001b[0m",
      "\u001b[1;31mTypeError\u001b[0m: string indices must be integers"
     ]
    }
   ],
   "source": [
    "data['programming']"
   ]
  },
  {
   "cell_type": "code",
   "execution_count": 14,
   "metadata": {},
   "outputs": [
    {
     "ename": "ValueError",
     "evalue": "dictionary update sequence element #0 has length 1; 2 is required",
     "output_type": "error",
     "traceback": [
      "\u001b[1;31m---------------------------------------------------------------------------\u001b[0m",
      "\u001b[1;31mValueError\u001b[0m                                Traceback (most recent call last)",
      "\u001b[1;32m<ipython-input-14-768c2a1ef7f9>\u001b[0m in \u001b[0;36m<module>\u001b[1;34m\u001b[0m\n\u001b[1;32m----> 1\u001b[1;33m \u001b[0mdata\u001b[0m \u001b[1;33m=\u001b[0m \u001b[0mdict\u001b[0m\u001b[1;33m(\u001b[0m\u001b[0mdata\u001b[0m\u001b[1;33m)\u001b[0m\u001b[1;33m\u001b[0m\u001b[1;33m\u001b[0m\u001b[0m\n\u001b[0m",
      "\u001b[1;31mValueError\u001b[0m: dictionary update sequence element #0 has length 1; 2 is required"
     ]
    }
   ],
   "source": [
    "data = dict(data)"
   ]
  },
  {
   "cell_type": "code",
   "execution_count": 15,
   "metadata": {},
   "outputs": [],
   "source": [
    "import json"
   ]
  },
  {
   "cell_type": "code",
   "execution_count": 17,
   "metadata": {},
   "outputs": [],
   "source": [
    "f = open(\"c:/Users/HP-PC/Desktop/data.json\",'w')"
   ]
  },
  {
   "cell_type": "code",
   "execution_count": 18,
   "metadata": {},
   "outputs": [],
   "source": [
    "json.dump(d,f)"
   ]
  },
  {
   "cell_type": "code",
   "execution_count": 19,
   "metadata": {},
   "outputs": [],
   "source": [
    "f.close()"
   ]
  },
  {
   "cell_type": "code",
   "execution_count": 20,
   "metadata": {},
   "outputs": [],
   "source": [
    "f = open(\"c:/Users/HP-PC/Desktop/data.json\",'r')"
   ]
  },
  {
   "cell_type": "code",
   "execution_count": 21,
   "metadata": {},
   "outputs": [],
   "source": [
    "data = json.load(f)"
   ]
  },
  {
   "cell_type": "code",
   "execution_count": 22,
   "metadata": {},
   "outputs": [
    {
     "data": {
      "text/plain": [
       "{'Name': 'Python',\n",
       " 'Father': 'Guido Van Rossum',\n",
       " 'Frameworks': ['Django', 'Pyramid', 'Flask'],\n",
       " 'Versions': [1, 2, 3],\n",
       " 'programming': ['scripting', 'OOPS', 'Functional Programming']}"
      ]
     },
     "execution_count": 22,
     "metadata": {},
     "output_type": "execute_result"
    }
   ],
   "source": [
    "data"
   ]
  },
  {
   "cell_type": "code",
   "execution_count": 23,
   "metadata": {},
   "outputs": [
    {
     "name": "stdout",
     "output_type": "stream",
     "text": [
      "<class 'dict'>\n"
     ]
    }
   ],
   "source": [
    "print(type(data))"
   ]
  },
  {
   "cell_type": "code",
   "execution_count": 24,
   "metadata": {},
   "outputs": [
    {
     "data": {
      "text/plain": [
       "[1, 2, 3]"
      ]
     },
     "execution_count": 24,
     "metadata": {},
     "output_type": "execute_result"
    }
   ],
   "source": [
    "data['Versions']"
   ]
  },
  {
   "cell_type": "code",
   "execution_count": 25,
   "metadata": {},
   "outputs": [],
   "source": [
    "f = open(\"c:/Users/HP-PC/Desktop/data.json\",'w')"
   ]
  },
  {
   "cell_type": "code",
   "execution_count": 26,
   "metadata": {},
   "outputs": [],
   "source": [
    "l = [44,342,235,43,63,547,4563,52,53,4634,75,4,'Hello','hi','bye','bye']"
   ]
  },
  {
   "cell_type": "code",
   "execution_count": 27,
   "metadata": {},
   "outputs": [],
   "source": [
    "json.dump(l,f)"
   ]
  },
  {
   "cell_type": "code",
   "execution_count": 28,
   "metadata": {},
   "outputs": [],
   "source": [
    "f.close()"
   ]
  },
  {
   "cell_type": "code",
   "execution_count": 29,
   "metadata": {},
   "outputs": [],
   "source": [
    "import pickle"
   ]
  },
  {
   "cell_type": "code",
   "execution_count": null,
   "metadata": {},
   "outputs": [],
   "source": [
    "pickle.load()"
   ]
  },
  {
   "cell_type": "markdown",
   "metadata": {},
   "source": [
    "# APIS"
   ]
  },
  {
   "cell_type": "markdown",
   "metadata": {},
   "source": [
    "1. Source\n"
   ]
  },
  {
   "cell_type": "code",
   "execution_count": 30,
   "metadata": {},
   "outputs": [],
   "source": [
    "import requests"
   ]
  },
  {
   "cell_type": "code",
   "execution_count": 35,
   "metadata": {},
   "outputs": [],
   "source": [
    "url = \"https://api.nytimes.com/svc/topstories/v2/\""
   ]
  },
  {
   "cell_type": "markdown",
   "metadata": {},
   "source": [
    "The possible section value are: arts, automobiles, books, business, fashion, food, health, home, insider, magazine, movies, nyregion, obituaries, opinion, politics, realestate, science, sports, sundayreview, technology, theater, t-magazine, travel, upshot, us, and world."
   ]
  },
  {
   "cell_type": "code",
   "execution_count": 36,
   "metadata": {},
   "outputs": [
    {
     "name": "stdout",
     "output_type": "stream",
     "text": [
      "Enter your Topic fashion\n"
     ]
    }
   ],
   "source": [
    "topic=input(\"Enter your Topic \")"
   ]
  },
  {
   "cell_type": "code",
   "execution_count": 37,
   "metadata": {},
   "outputs": [],
   "source": [
    "key =\"NlvLsETDa6rOumgLyOl52DkAG4gUlOfc\""
   ]
  },
  {
   "cell_type": "code",
   "execution_count": 38,
   "metadata": {},
   "outputs": [],
   "source": [
    "s= \".json?api-key=\""
   ]
  },
  {
   "cell_type": "code",
   "execution_count": 39,
   "metadata": {},
   "outputs": [],
   "source": [
    "act_url= url+topic+s+key"
   ]
  },
  {
   "cell_type": "code",
   "execution_count": 40,
   "metadata": {},
   "outputs": [
    {
     "name": "stdout",
     "output_type": "stream",
     "text": [
      "https://api.nytimes.com/svc/topstories/v2/fashion.json?api-key=NlvLsETDa6rOumgLyOl52DkAG4gUlOfc\n"
     ]
    }
   ],
   "source": [
    "print(act_url)"
   ]
  },
  {
   "cell_type": "code",
   "execution_count": 41,
   "metadata": {},
   "outputs": [],
   "source": [
    "data = requests.get(act_url)"
   ]
  },
  {
   "cell_type": "code",
   "execution_count": 43,
   "metadata": {},
   "outputs": [
    {
     "data": {
      "text/plain": [
       "200"
      ]
     },
     "execution_count": 43,
     "metadata": {},
     "output_type": "execute_result"
    }
   ],
   "source": [
    "data.status_code #first digit 2--> success, 4,5 --> error"
   ]
  },
  {
   "cell_type": "code",
   "execution_count": 55,
   "metadata": {},
   "outputs": [],
   "source": [
    "#data.text"
   ]
  },
  {
   "cell_type": "code",
   "execution_count": 46,
   "metadata": {},
   "outputs": [],
   "source": [
    "d=data.json()"
   ]
  },
  {
   "cell_type": "code",
   "execution_count": 54,
   "metadata": {},
   "outputs": [],
   "source": [
    "#d"
   ]
  },
  {
   "cell_type": "code",
   "execution_count": 48,
   "metadata": {},
   "outputs": [],
   "source": [
    "from pprint import pprint "
   ]
  },
  {
   "cell_type": "code",
   "execution_count": 53,
   "metadata": {},
   "outputs": [],
   "source": [
    "#pprint(d)"
   ]
  },
  {
   "cell_type": "code",
   "execution_count": 57,
   "metadata": {},
   "outputs": [
    {
     "data": {
      "text/plain": [
       "dict_keys(['status', 'copyright', 'section', 'last_updated', 'num_results', 'results'])"
      ]
     },
     "execution_count": 57,
     "metadata": {},
     "output_type": "execute_result"
    }
   ],
   "source": [
    "d.keys()"
   ]
  },
  {
   "cell_type": "code",
   "execution_count": 63,
   "metadata": {},
   "outputs": [
    {
     "data": {
      "text/plain": [
       "'Capitalist opportunities often emerge from times of trauma. That doesn’t make the origin stories any less uncomfortable.'"
      ]
     },
     "execution_count": 63,
     "metadata": {},
     "output_type": "execute_result"
    }
   ],
   "source": [
    "d['results'][0]['abstract']"
   ]
  },
  {
   "cell_type": "markdown",
   "metadata": {},
   "source": [
    "# Weather API"
   ]
  },
  {
   "cell_type": "code",
   "execution_count": 6,
   "metadata": {},
   "outputs": [],
   "source": [
    "import requests"
   ]
  },
  {
   "cell_type": "code",
   "execution_count": 61,
   "metadata": {},
   "outputs": [],
   "source": [
    "url = \"http://dataservice.accuweather.com/locations/v1/cities/search?apikey=\""
   ]
  },
  {
   "cell_type": "code",
   "execution_count": 62,
   "metadata": {},
   "outputs": [],
   "source": [
    "key=\"Mmr8VF9HZErNLHxjugyJJBEGIxi9R8kD\""
   ]
  },
  {
   "cell_type": "code",
   "execution_count": 63,
   "metadata": {},
   "outputs": [
    {
     "name": "stdout",
     "output_type": "stream",
     "text": [
      "Enter your city name--> shillong\n"
     ]
    }
   ],
   "source": [
    "city = input(\"Enter your city name--> \")"
   ]
  },
  {
   "cell_type": "code",
   "execution_count": 64,
   "metadata": {},
   "outputs": [],
   "source": [
    "full_url = url+key+\"&q=\"+city"
   ]
  },
  {
   "cell_type": "code",
   "execution_count": 65,
   "metadata": {},
   "outputs": [
    {
     "data": {
      "text/plain": [
       "'http://dataservice.accuweather.com/locations/v1/cities/search?apikey=Mmr8VF9HZErNLHxjugyJJBEGIxi9R8kD&q=shillong'"
      ]
     },
     "execution_count": 65,
     "metadata": {},
     "output_type": "execute_result"
    }
   ],
   "source": [
    "full_url"
   ]
  },
  {
   "cell_type": "code",
   "execution_count": 66,
   "metadata": {},
   "outputs": [],
   "source": [
    "data = requests.get(full_url)"
   ]
  },
  {
   "cell_type": "code",
   "execution_count": 67,
   "metadata": {},
   "outputs": [
    {
     "data": {
      "text/plain": [
       "200"
      ]
     },
     "execution_count": 67,
     "metadata": {},
     "output_type": "execute_result"
    }
   ],
   "source": [
    "data.status_code"
   ]
  },
  {
   "cell_type": "code",
   "execution_count": 68,
   "metadata": {},
   "outputs": [],
   "source": [
    "data=data.json()"
   ]
  },
  {
   "cell_type": "code",
   "execution_count": 77,
   "metadata": {},
   "outputs": [
    {
     "data": {
      "text/plain": [
       "[{'Version': 1,\n",
       "  'Key': '189555',\n",
       "  'Type': 'City',\n",
       "  'Rank': 41,\n",
       "  'LocalizedName': 'Shillong',\n",
       "  'EnglishName': 'Shillong',\n",
       "  'PrimaryPostalCode': '',\n",
       "  'Region': {'ID': 'ASI', 'LocalizedName': 'Asia', 'EnglishName': 'Asia'},\n",
       "  'Country': {'ID': 'IN', 'LocalizedName': 'India', 'EnglishName': 'India'},\n",
       "  'AdministrativeArea': {'ID': 'ML',\n",
       "   'LocalizedName': 'Meghalaya',\n",
       "   'EnglishName': 'Meghalaya',\n",
       "   'Level': 1,\n",
       "   'LocalizedType': 'State',\n",
       "   'EnglishType': 'State',\n",
       "   'CountryID': 'IN'},\n",
       "  'TimeZone': {'Code': 'IST',\n",
       "   'Name': 'Asia/Kolkata',\n",
       "   'GmtOffset': 5.5,\n",
       "   'IsDaylightSaving': False,\n",
       "   'NextOffsetChange': None},\n",
       "  'GeoPosition': {'Latitude': 25.566,\n",
       "   'Longitude': 91.901,\n",
       "   'Elevation': {'Metric': {'Value': 1551.0, 'Unit': 'm', 'UnitType': 5},\n",
       "    'Imperial': {'Value': 5087.0, 'Unit': 'ft', 'UnitType': 0}}},\n",
       "  'IsAlias': False,\n",
       "  'SupplementalAdminAreas': [{'Level': 2,\n",
       "    'LocalizedName': 'East Khasi Hills',\n",
       "    'EnglishName': 'East Khasi Hills'},\n",
       "   {'Level': 3, 'LocalizedName': 'Mylliem', 'EnglishName': 'Mylliem'}],\n",
       "  'DataSets': ['AirQualityCurrentConditions',\n",
       "   'AirQualityForecasts',\n",
       "   'PremiumAirQuality']}]"
      ]
     },
     "execution_count": 77,
     "metadata": {},
     "output_type": "execute_result"
    }
   ],
   "source": [
    "data"
   ]
  },
  {
   "cell_type": "code",
   "execution_count": 69,
   "metadata": {},
   "outputs": [],
   "source": [
    "loc_id=data[0]['Key']"
   ]
  },
  {
   "cell_type": "code",
   "execution_count": 70,
   "metadata": {},
   "outputs": [],
   "source": [
    "url1=\"http://dataservice.accuweather.com/forecasts/v1/daily/1day/\""
   ]
  },
  {
   "cell_type": "code",
   "execution_count": 71,
   "metadata": {},
   "outputs": [],
   "source": [
    "req_url = url1+loc_id+\"?apikey=\"+key"
   ]
  },
  {
   "cell_type": "code",
   "execution_count": 72,
   "metadata": {},
   "outputs": [
    {
     "data": {
      "text/plain": [
       "'http://dataservice.accuweather.com/forecasts/v1/daily/1day/189555?apikey=Mmr8VF9HZErNLHxjugyJJBEGIxi9R8kD'"
      ]
     },
     "execution_count": 72,
     "metadata": {},
     "output_type": "execute_result"
    }
   ],
   "source": [
    "req_url"
   ]
  },
  {
   "cell_type": "code",
   "execution_count": 73,
   "metadata": {},
   "outputs": [],
   "source": [
    "d = requests.get(req_url)"
   ]
  },
  {
   "cell_type": "code",
   "execution_count": 74,
   "metadata": {},
   "outputs": [
    {
     "data": {
      "text/plain": [
       "200"
      ]
     },
     "execution_count": 74,
     "metadata": {},
     "output_type": "execute_result"
    }
   ],
   "source": [
    "d.status_code"
   ]
  },
  {
   "cell_type": "code",
   "execution_count": 75,
   "metadata": {},
   "outputs": [],
   "source": [
    "d=d.json()"
   ]
  },
  {
   "cell_type": "code",
   "execution_count": 76,
   "metadata": {},
   "outputs": [
    {
     "data": {
      "text/plain": [
       "{'Headline': {'EffectiveDate': '2020-04-25T07:00:00+05:30',\n",
       "  'EffectiveEpochDate': 1587778200,\n",
       "  'Severity': 3,\n",
       "  'Text': '',\n",
       "  'Category': 'thunderstorm',\n",
       "  'EndDate': '2020-04-26T07:00:00+05:30',\n",
       "  'EndEpochDate': 1587864600,\n",
       "  'MobileLink': 'http://m.accuweather.com/en/in/shillong/189555/extended-weather-forecast/189555?lang=en-us',\n",
       "  'Link': 'http://www.accuweather.com/en/in/shillong/189555/daily-weather-forecast/189555?lang=en-us'},\n",
       " 'DailyForecasts': [{'Date': '2020-04-25T07:00:00+05:30',\n",
       "   'EpochDate': 1587778200,\n",
       "   'Temperature': {'Minimum': {'Value': 52.0, 'Unit': 'F', 'UnitType': 18},\n",
       "    'Maximum': {'Value': 64.0, 'Unit': 'F', 'UnitType': 18}},\n",
       "   'Day': {'Icon': 17,\n",
       "    'IconPhrase': 'Partly sunny w/ t-storms',\n",
       "    'HasPrecipitation': True,\n",
       "    'PrecipitationType': 'Rain',\n",
       "    'PrecipitationIntensity': 'Heavy'},\n",
       "   'Night': {'Icon': 42,\n",
       "    'IconPhrase': 'Mostly cloudy w/ t-storms',\n",
       "    'HasPrecipitation': True,\n",
       "    'PrecipitationType': 'Rain',\n",
       "    'PrecipitationIntensity': 'Heavy'},\n",
       "   'Sources': ['AccuWeather'],\n",
       "   'MobileLink': 'http://m.accuweather.com/en/in/shillong/189555/daily-weather-forecast/189555?day=1&lang=en-us',\n",
       "   'Link': 'http://www.accuweather.com/en/in/shillong/189555/daily-weather-forecast/189555?day=1&lang=en-us'}]}"
      ]
     },
     "execution_count": 76,
     "metadata": {},
     "output_type": "execute_result"
    }
   ],
   "source": [
    "d"
   ]
  },
  {
   "cell_type": "markdown",
   "metadata": {},
   "source": [
    "# Covid_19_rapid_api"
   ]
  },
  {
   "cell_type": "code",
   "execution_count": 43,
   "metadata": {},
   "outputs": [],
   "source": [
    "import requests\n",
    "\n",
    "url = \"https://covid-19-india-data-by-zt.p.rapidapi.com/GetIndiaHistoricalDataBetweenDates\"\n",
    "\n",
    "querystring = {\"start_date\":\"2020-02-01\",\"end_date\":\"2020-04-28\"}\n",
    "\n",
    "headers = {\n",
    "    'x-rapidapi-host': \"covid-19-india-data-by-zt.p.rapidapi.com\",\n",
    "    'x-rapidapi-key': \"7cd6bf113fmsh7358008b99e2b68p131b68jsnf29f543d01fd\"\n",
    "    }\n",
    "\n",
    "response = requests.request(\"GET\", url, headers=headers, params=querystring)\n",
    "\n",
    "#print(response.text)"
   ]
  },
  {
   "cell_type": "code",
   "execution_count": 44,
   "metadata": {},
   "outputs": [],
   "source": [
    "data=response.json()"
   ]
  },
  {
   "cell_type": "code",
   "execution_count": 45,
   "metadata": {},
   "outputs": [
    {
     "data": {
      "text/plain": [
       "'2020-02-01'"
      ]
     },
     "execution_count": 45,
     "metadata": {},
     "output_type": "execute_result"
    }
   ],
   "source": [
    "data['records'][0]['dateofrecord']"
   ]
  },
  {
   "cell_type": "code",
   "execution_count": 46,
   "metadata": {},
   "outputs": [],
   "source": [
    "date = []\n",
    "for var in range(len(data['records'])):\n",
    "    date.append(data['records'][var]['dateofrecord'])"
   ]
  },
  {
   "cell_type": "code",
   "execution_count": 47,
   "metadata": {},
   "outputs": [],
   "source": [
    "#date"
   ]
  },
  {
   "cell_type": "code",
   "execution_count": 48,
   "metadata": {},
   "outputs": [],
   "source": [
    "daily_death = []\n",
    "for var in range(len(data['records'])):\n",
    "    daily_death.append(data['records'][var]['cases']['dailydeceased'])"
   ]
  },
  {
   "cell_type": "code",
   "execution_count": 49,
   "metadata": {},
   "outputs": [],
   "source": [
    "#daily_death"
   ]
  },
  {
   "cell_type": "code",
   "execution_count": 50,
   "metadata": {},
   "outputs": [],
   "source": [
    "total_death = []\n",
    "for var in range(len(data['records'])):\n",
    "    total_death.append(int(data['records'][var]['cases']['totaldeceased']))"
   ]
  },
  {
   "cell_type": "code",
   "execution_count": 51,
   "metadata": {},
   "outputs": [],
   "source": [
    "#total_death"
   ]
  },
  {
   "cell_type": "code",
   "execution_count": 52,
   "metadata": {},
   "outputs": [],
   "source": [
    "totalconfirmed = []\n",
    "for var in range(len(data['records'])):\n",
    "    totalconfirmed.append(int(data['records'][var]['cases']['totalconfirmed']))"
   ]
  },
  {
   "cell_type": "code",
   "execution_count": 53,
   "metadata": {},
   "outputs": [],
   "source": [
    "#totalconfirmed"
   ]
  },
  {
   "cell_type": "code",
   "execution_count": 54,
   "metadata": {},
   "outputs": [],
   "source": [
    "totalrecovered = []\n",
    "for var in range(len(data['records'])):\n",
    "    totalrecovered.append(int(data['records'][var]['cases']['totalrecovered']))"
   ]
  },
  {
   "cell_type": "code",
   "execution_count": 55,
   "metadata": {},
   "outputs": [],
   "source": [
    "#totalrecovered"
   ]
  },
  {
   "cell_type": "code",
   "execution_count": 56,
   "metadata": {},
   "outputs": [],
   "source": [
    "import pandas as pd\n",
    "df = pd.DataFrame(data=[totalconfirmed,totalrecovered,total_death])"
   ]
  },
  {
   "cell_type": "code",
   "execution_count": 57,
   "metadata": {},
   "outputs": [],
   "source": [
    "df=df.T"
   ]
  },
  {
   "cell_type": "code",
   "execution_count": 58,
   "metadata": {},
   "outputs": [],
   "source": [
    "df.columns=['totalconfirmed','totalrecovered','total_death']"
   ]
  },
  {
   "cell_type": "code",
   "execution_count": 59,
   "metadata": {},
   "outputs": [],
   "source": [
    "df.index=[date]"
   ]
  },
  {
   "cell_type": "code",
   "execution_count": 60,
   "metadata": {},
   "outputs": [
    {
     "data": {
      "text/html": [
       "<div>\n",
       "<style scoped>\n",
       "    .dataframe tbody tr th:only-of-type {\n",
       "        vertical-align: middle;\n",
       "    }\n",
       "\n",
       "    .dataframe tbody tr th {\n",
       "        vertical-align: top;\n",
       "    }\n",
       "\n",
       "    .dataframe thead th {\n",
       "        text-align: right;\n",
       "    }\n",
       "</style>\n",
       "<table border=\"1\" class=\"dataframe\">\n",
       "  <thead>\n",
       "    <tr style=\"text-align: right;\">\n",
       "      <th></th>\n",
       "      <th>totalconfirmed</th>\n",
       "      <th>totalrecovered</th>\n",
       "      <th>total_death</th>\n",
       "    </tr>\n",
       "  </thead>\n",
       "  <tbody>\n",
       "    <tr>\n",
       "      <th>2020-02-01</th>\n",
       "      <td>1</td>\n",
       "      <td>0</td>\n",
       "      <td>0</td>\n",
       "    </tr>\n",
       "    <tr>\n",
       "      <th>2020-02-02</th>\n",
       "      <td>2</td>\n",
       "      <td>0</td>\n",
       "      <td>0</td>\n",
       "    </tr>\n",
       "    <tr>\n",
       "      <th>2020-02-03</th>\n",
       "      <td>3</td>\n",
       "      <td>0</td>\n",
       "      <td>0</td>\n",
       "    </tr>\n",
       "    <tr>\n",
       "      <th>2020-02-04</th>\n",
       "      <td>3</td>\n",
       "      <td>0</td>\n",
       "      <td>0</td>\n",
       "    </tr>\n",
       "    <tr>\n",
       "      <th>2020-02-05</th>\n",
       "      <td>3</td>\n",
       "      <td>0</td>\n",
       "      <td>0</td>\n",
       "    </tr>\n",
       "    <tr>\n",
       "      <th>...</th>\n",
       "      <td>...</td>\n",
       "      <td>...</td>\n",
       "      <td>...</td>\n",
       "    </tr>\n",
       "    <tr>\n",
       "      <th>2020-04-24</th>\n",
       "      <td>24448</td>\n",
       "      <td>5496</td>\n",
       "      <td>781</td>\n",
       "    </tr>\n",
       "    <tr>\n",
       "      <th>2020-04-25</th>\n",
       "      <td>26283</td>\n",
       "      <td>5938</td>\n",
       "      <td>825</td>\n",
       "    </tr>\n",
       "    <tr>\n",
       "      <th>2020-04-26</th>\n",
       "      <td>27890</td>\n",
       "      <td>6523</td>\n",
       "      <td>881</td>\n",
       "    </tr>\n",
       "    <tr>\n",
       "      <th>2020-04-27</th>\n",
       "      <td>29458</td>\n",
       "      <td>7137</td>\n",
       "      <td>939</td>\n",
       "    </tr>\n",
       "    <tr>\n",
       "      <th>2020-04-28</th>\n",
       "      <td>31360</td>\n",
       "      <td>7747</td>\n",
       "      <td>1008</td>\n",
       "    </tr>\n",
       "  </tbody>\n",
       "</table>\n",
       "<p>88 rows × 3 columns</p>\n",
       "</div>"
      ],
      "text/plain": [
       "            totalconfirmed  totalrecovered  total_death\n",
       "2020-02-01               1               0            0\n",
       "2020-02-02               2               0            0\n",
       "2020-02-03               3               0            0\n",
       "2020-02-04               3               0            0\n",
       "2020-02-05               3               0            0\n",
       "...                    ...             ...          ...\n",
       "2020-04-24           24448            5496          781\n",
       "2020-04-25           26283            5938          825\n",
       "2020-04-26           27890            6523          881\n",
       "2020-04-27           29458            7137          939\n",
       "2020-04-28           31360            7747         1008\n",
       "\n",
       "[88 rows x 3 columns]"
      ]
     },
     "execution_count": 60,
     "metadata": {},
     "output_type": "execute_result"
    }
   ],
   "source": [
    "df"
   ]
  },
  {
   "cell_type": "code",
   "execution_count": 20,
   "metadata": {},
   "outputs": [
    {
     "data": {
      "text/html": [
       "<div>\n",
       "<style scoped>\n",
       "    .dataframe tbody tr th:only-of-type {\n",
       "        vertical-align: middle;\n",
       "    }\n",
       "\n",
       "    .dataframe tbody tr th {\n",
       "        vertical-align: top;\n",
       "    }\n",
       "\n",
       "    .dataframe thead th {\n",
       "        text-align: right;\n",
       "    }\n",
       "</style>\n",
       "<table border=\"1\" class=\"dataframe\">\n",
       "  <thead>\n",
       "    <tr style=\"text-align: right;\">\n",
       "      <th></th>\n",
       "      <th>totalconfirmed</th>\n",
       "      <th>totalrecovered</th>\n",
       "      <th>total_death</th>\n",
       "    </tr>\n",
       "  </thead>\n",
       "  <tbody>\n",
       "    <tr>\n",
       "      <th>count</th>\n",
       "      <td>88.000000</td>\n",
       "      <td>88.000000</td>\n",
       "      <td>88.000000</td>\n",
       "    </tr>\n",
       "    <tr>\n",
       "      <th>mean</th>\n",
       "      <td>4457.284091</td>\n",
       "      <td>792.454545</td>\n",
       "      <td>142.079545</td>\n",
       "    </tr>\n",
       "    <tr>\n",
       "      <th>std</th>\n",
       "      <td>8050.934867</td>\n",
       "      <td>1747.745726</td>\n",
       "      <td>259.559717</td>\n",
       "    </tr>\n",
       "    <tr>\n",
       "      <th>min</th>\n",
       "      <td>1.000000</td>\n",
       "      <td>0.000000</td>\n",
       "      <td>0.000000</td>\n",
       "    </tr>\n",
       "    <tr>\n",
       "      <th>25%</th>\n",
       "      <td>3.000000</td>\n",
       "      <td>3.000000</td>\n",
       "      <td>0.000000</td>\n",
       "    </tr>\n",
       "    <tr>\n",
       "      <th>50%</th>\n",
       "      <td>119.000000</td>\n",
       "      <td>13.500000</td>\n",
       "      <td>2.000000</td>\n",
       "    </tr>\n",
       "    <tr>\n",
       "      <th>75%</th>\n",
       "      <td>4920.250000</td>\n",
       "      <td>412.750000</td>\n",
       "      <td>140.750000</td>\n",
       "    </tr>\n",
       "    <tr>\n",
       "      <th>max</th>\n",
       "      <td>31360.000000</td>\n",
       "      <td>7747.000000</td>\n",
       "      <td>1008.000000</td>\n",
       "    </tr>\n",
       "  </tbody>\n",
       "</table>\n",
       "</div>"
      ],
      "text/plain": [
       "       totalconfirmed  totalrecovered  total_death\n",
       "count       88.000000       88.000000    88.000000\n",
       "mean      4457.284091      792.454545   142.079545\n",
       "std       8050.934867     1747.745726   259.559717\n",
       "min          1.000000        0.000000     0.000000\n",
       "25%          3.000000        3.000000     0.000000\n",
       "50%        119.000000       13.500000     2.000000\n",
       "75%       4920.250000      412.750000   140.750000\n",
       "max      31360.000000     7747.000000  1008.000000"
      ]
     },
     "execution_count": 20,
     "metadata": {},
     "output_type": "execute_result"
    }
   ],
   "source": [
    "df.describe()"
   ]
  },
  {
   "cell_type": "code",
   "execution_count": 71,
   "metadata": {},
   "outputs": [],
   "source": [
    "import requests\n",
    "\n",
    "url = \"https://covid-19-india-data-by-zt.p.rapidapi.com/GetIndiaDistrictWiseDataForState\"\n",
    "\n",
    "querystring = {\"statecode\":\"Rj\"}\n",
    "\n",
    "headers = {\n",
    "    'x-rapidapi-host': \"covid-19-india-data-by-zt.p.rapidapi.com\",\n",
    "    'x-rapidapi-key': \"7cd6bf113fmsh7358008b99e2b68p131b68jsnf29f543d01fd\"\n",
    "    }\n",
    "\n",
    "response = requests.request(\"GET\", url, headers=headers, params=querystring)\n",
    "\n",
    "#print(response.text)"
   ]
  },
  {
   "cell_type": "code",
   "execution_count": 72,
   "metadata": {},
   "outputs": [],
   "source": [
    "data=response.json()"
   ]
  },
  {
   "cell_type": "code",
   "execution_count": 73,
   "metadata": {},
   "outputs": [
    {
     "data": {
      "text/plain": [
       "{'statusMsg': 'OK',\n",
       " 'data': [{'name': 'Ajmer',\n",
       "   'notes': '',\n",
       "   'active': '141',\n",
       "   'deceased': '0',\n",
       "   'confirmed': '146',\n",
       "   'recovered': '5',\n",
       "   'newconfirmed': '11'},\n",
       "  {'name': 'Alwar',\n",
       "   'notes': '',\n",
       "   'active': '1',\n",
       "   'deceased': '1',\n",
       "   'confirmed': '7',\n",
       "   'recovered': '5',\n",
       "   'newconfirmed': '0'},\n",
       "  {'name': 'Banswara',\n",
       "   'notes': '',\n",
       "   'active': '33',\n",
       "   'deceased': '0',\n",
       "   'confirmed': '64',\n",
       "   'recovered': '31',\n",
       "   'newconfirmed': '1'},\n",
       "  {'name': 'Barmer',\n",
       "   'notes': '',\n",
       "   'active': '1',\n",
       "   'deceased': '0',\n",
       "   'confirmed': '2',\n",
       "   'recovered': '1',\n",
       "   'newconfirmed': '0'},\n",
       "  {'name': 'Bharatpur',\n",
       "   'notes': '',\n",
       "   'active': '103',\n",
       "   'deceased': '2',\n",
       "   'confirmed': '110',\n",
       "   'recovered': '5',\n",
       "   'newconfirmed': '0'},\n",
       "  {'name': 'Bhilwara',\n",
       "   'notes': '',\n",
       "   'active': '3',\n",
       "   'deceased': '2',\n",
       "   'confirmed': '35',\n",
       "   'recovered': '30',\n",
       "   'newconfirmed': '0'},\n",
       "  {'name': 'Bikaner',\n",
       "   'notes': '',\n",
       "   'active': '0',\n",
       "   'deceased': '1',\n",
       "   'confirmed': '37',\n",
       "   'recovered': '36',\n",
       "   'newconfirmed': '0'},\n",
       "  {'name': 'Chittaurgarh',\n",
       "   'notes': '',\n",
       "   'active': '8',\n",
       "   'deceased': '0',\n",
       "   'confirmed': '8',\n",
       "   'recovered': '0',\n",
       "   'newconfirmed': '0'},\n",
       "  {'name': 'Churu',\n",
       "   'notes': '',\n",
       "   'active': '0',\n",
       "   'deceased': '0',\n",
       "   'confirmed': '14',\n",
       "   'recovered': '14',\n",
       "   'newconfirmed': '0'},\n",
       "  {'name': 'Dausa',\n",
       "   'notes': '',\n",
       "   'active': '14',\n",
       "   'deceased': '0',\n",
       "   'confirmed': '21',\n",
       "   'recovered': '7',\n",
       "   'newconfirmed': '0'},\n",
       "  {'name': 'Dhaulpur',\n",
       "   'notes': '',\n",
       "   'active': '8',\n",
       "   'deceased': '0',\n",
       "   'confirmed': '9',\n",
       "   'recovered': '1',\n",
       "   'newconfirmed': '0'},\n",
       "  {'name': 'Dungarpur',\n",
       "   'notes': '',\n",
       "   'active': '1',\n",
       "   'deceased': '0',\n",
       "   'confirmed': '6',\n",
       "   'recovered': '5',\n",
       "   'newconfirmed': '0'},\n",
       "  {'name': 'Hanumangarh',\n",
       "   'notes': '',\n",
       "   'active': '9',\n",
       "   'deceased': '0',\n",
       "   'confirmed': '11',\n",
       "   'recovered': '2',\n",
       "   'newconfirmed': '0'},\n",
       "  {'name': 'Jaipur',\n",
       "   'notes': '',\n",
       "   'active': '564',\n",
       "   'deceased': '27',\n",
       "   'confirmed': '864',\n",
       "   'recovered': '273',\n",
       "   'newconfirmed': '5'},\n",
       "  {'name': 'Jaisalmer',\n",
       "   'notes': '',\n",
       "   'active': '5',\n",
       "   'deceased': '0',\n",
       "   'confirmed': '35',\n",
       "   'recovered': '30',\n",
       "   'newconfirmed': '0'},\n",
       "  {'name': 'Jhalawar',\n",
       "   'notes': '',\n",
       "   'active': '20',\n",
       "   'deceased': '0',\n",
       "   'confirmed': '40',\n",
       "   'recovered': '20',\n",
       "   'newconfirmed': '0'},\n",
       "  {'name': 'Jhunjhunu',\n",
       "   'notes': '',\n",
       "   'active': '9',\n",
       "   'deceased': '0',\n",
       "   'confirmed': '42',\n",
       "   'recovered': '33',\n",
       "   'newconfirmed': '0'},\n",
       "  {'name': 'Jodhpur',\n",
       "   'notes': '',\n",
       "   'active': '304',\n",
       "   'deceased': '6',\n",
       "   'confirmed': '401',\n",
       "   'recovered': '91',\n",
       "   'newconfirmed': '1'},\n",
       "  {'name': 'Karauli',\n",
       "   'notes': '',\n",
       "   'active': '1',\n",
       "   'deceased': '0',\n",
       "   'confirmed': '3',\n",
       "   'recovered': '2',\n",
       "   'newconfirmed': '0'},\n",
       "  {'name': 'Kota',\n",
       "   'notes': '',\n",
       "   'active': '84',\n",
       "   'deceased': '7',\n",
       "   'confirmed': '189',\n",
       "   'recovered': '98',\n",
       "   'newconfirmed': '0'},\n",
       "  {'name': 'Nagaur',\n",
       "   'notes': '',\n",
       "   'active': '107',\n",
       "   'deceased': '1',\n",
       "   'confirmed': '117',\n",
       "   'recovered': '9',\n",
       "   'newconfirmed': '0'},\n",
       "  {'name': 'Pali',\n",
       "   'notes': '',\n",
       "   'active': '1',\n",
       "   'deceased': '0',\n",
       "   'confirmed': '3',\n",
       "   'recovered': '2',\n",
       "   'newconfirmed': '0'},\n",
       "  {'name': 'Pratapgarh',\n",
       "   'notes': '',\n",
       "   'active': '0',\n",
       "   'deceased': '0',\n",
       "   'confirmed': '2',\n",
       "   'recovered': '2',\n",
       "   'newconfirmed': '0'},\n",
       "  {'name': 'Rajsamand',\n",
       "   'notes': '',\n",
       "   'active': '1',\n",
       "   'deceased': '0',\n",
       "   'confirmed': '1',\n",
       "   'recovered': '0',\n",
       "   'newconfirmed': '0'},\n",
       "  {'name': 'Sawai Madhopur',\n",
       "   'notes': '',\n",
       "   'active': '8',\n",
       "   'deceased': '0',\n",
       "   'confirmed': '8',\n",
       "   'recovered': '0',\n",
       "   'newconfirmed': '0'},\n",
       "  {'name': 'Sikar',\n",
       "   'notes': '',\n",
       "   'active': '2',\n",
       "   'deceased': '2',\n",
       "   'confirmed': '6',\n",
       "   'recovered': '2',\n",
       "   'newconfirmed': '0'},\n",
       "  {'name': 'Tonk',\n",
       "   'notes': '',\n",
       "   'active': '95',\n",
       "   'deceased': '1',\n",
       "   'confirmed': '131',\n",
       "   'recovered': '35',\n",
       "   'newconfirmed': '0'},\n",
       "  {'name': 'Udaipur',\n",
       "   'notes': '',\n",
       "   'active': '4',\n",
       "   'deceased': '0',\n",
       "   'confirmed': '8',\n",
       "   'recovered': '4',\n",
       "   'newconfirmed': '1'},\n",
       "  {'name': 'Italians',\n",
       "   'notes': 'Italian tourists who were tested positive in Rajasthan',\n",
       "   'active': '0',\n",
       "   'deceased': '0',\n",
       "   'confirmed': '2',\n",
       "   'recovered': '2',\n",
       "   'newconfirmed': '0'},\n",
       "  {'name': 'Evacuees',\n",
       "   'notes': 'Evacuees from other countries; They have been counted separatly by the state',\n",
       "   'active': '27',\n",
       "   'deceased': '0',\n",
       "   'confirmed': '61',\n",
       "   'recovered': '34',\n",
       "   'newconfirmed': '0'},\n",
       "  {'name': 'Others state',\n",
       "   'notes': '',\n",
       "   'active': '-4',\n",
       "   'deceased': '2',\n",
       "   'confirmed': '0',\n",
       "   'recovered': '2',\n",
       "   'newconfirmed': '0'}]}"
      ]
     },
     "execution_count": 73,
     "metadata": {},
     "output_type": "execute_result"
    }
   ],
   "source": [
    "data"
   ]
  },
  {
   "cell_type": "code",
   "execution_count": 74,
   "metadata": {},
   "outputs": [
    {
     "data": {
      "text/plain": [
       "'Ajmer'"
      ]
     },
     "execution_count": 74,
     "metadata": {},
     "output_type": "execute_result"
    }
   ],
   "source": [
    "data['data'][0]['name']"
   ]
  },
  {
   "cell_type": "code",
   "execution_count": 75,
   "metadata": {},
   "outputs": [
    {
     "name": "stdout",
     "output_type": "stream",
     "text": [
      "{'name': 'Ajmer', 'notes': '', 'active': '141', 'deceased': '0', 'confirmed': '146', 'recovered': '5', 'newconfirmed': '11'}\n",
      "{'name': 'Alwar', 'notes': '', 'active': '1', 'deceased': '1', 'confirmed': '7', 'recovered': '5', 'newconfirmed': '0'}\n",
      "{'name': 'Banswara', 'notes': '', 'active': '33', 'deceased': '0', 'confirmed': '64', 'recovered': '31', 'newconfirmed': '1'}\n",
      "{'name': 'Barmer', 'notes': '', 'active': '1', 'deceased': '0', 'confirmed': '2', 'recovered': '1', 'newconfirmed': '0'}\n",
      "{'name': 'Bharatpur', 'notes': '', 'active': '103', 'deceased': '2', 'confirmed': '110', 'recovered': '5', 'newconfirmed': '0'}\n",
      "{'name': 'Bhilwara', 'notes': '', 'active': '3', 'deceased': '2', 'confirmed': '35', 'recovered': '30', 'newconfirmed': '0'}\n",
      "{'name': 'Bikaner', 'notes': '', 'active': '0', 'deceased': '1', 'confirmed': '37', 'recovered': '36', 'newconfirmed': '0'}\n",
      "{'name': 'Chittaurgarh', 'notes': '', 'active': '8', 'deceased': '0', 'confirmed': '8', 'recovered': '0', 'newconfirmed': '0'}\n",
      "{'name': 'Churu', 'notes': '', 'active': '0', 'deceased': '0', 'confirmed': '14', 'recovered': '14', 'newconfirmed': '0'}\n",
      "{'name': 'Dausa', 'notes': '', 'active': '14', 'deceased': '0', 'confirmed': '21', 'recovered': '7', 'newconfirmed': '0'}\n",
      "{'name': 'Dhaulpur', 'notes': '', 'active': '8', 'deceased': '0', 'confirmed': '9', 'recovered': '1', 'newconfirmed': '0'}\n",
      "{'name': 'Dungarpur', 'notes': '', 'active': '1', 'deceased': '0', 'confirmed': '6', 'recovered': '5', 'newconfirmed': '0'}\n",
      "{'name': 'Hanumangarh', 'notes': '', 'active': '9', 'deceased': '0', 'confirmed': '11', 'recovered': '2', 'newconfirmed': '0'}\n",
      "{'name': 'Jaipur', 'notes': '', 'active': '564', 'deceased': '27', 'confirmed': '864', 'recovered': '273', 'newconfirmed': '5'}\n",
      "{'name': 'Jaisalmer', 'notes': '', 'active': '5', 'deceased': '0', 'confirmed': '35', 'recovered': '30', 'newconfirmed': '0'}\n",
      "{'name': 'Jhalawar', 'notes': '', 'active': '20', 'deceased': '0', 'confirmed': '40', 'recovered': '20', 'newconfirmed': '0'}\n",
      "{'name': 'Jhunjhunu', 'notes': '', 'active': '9', 'deceased': '0', 'confirmed': '42', 'recovered': '33', 'newconfirmed': '0'}\n",
      "{'name': 'Jodhpur', 'notes': '', 'active': '304', 'deceased': '6', 'confirmed': '401', 'recovered': '91', 'newconfirmed': '1'}\n",
      "{'name': 'Karauli', 'notes': '', 'active': '1', 'deceased': '0', 'confirmed': '3', 'recovered': '2', 'newconfirmed': '0'}\n",
      "{'name': 'Kota', 'notes': '', 'active': '84', 'deceased': '7', 'confirmed': '189', 'recovered': '98', 'newconfirmed': '0'}\n",
      "{'name': 'Nagaur', 'notes': '', 'active': '107', 'deceased': '1', 'confirmed': '117', 'recovered': '9', 'newconfirmed': '0'}\n",
      "{'name': 'Pali', 'notes': '', 'active': '1', 'deceased': '0', 'confirmed': '3', 'recovered': '2', 'newconfirmed': '0'}\n",
      "{'name': 'Pratapgarh', 'notes': '', 'active': '0', 'deceased': '0', 'confirmed': '2', 'recovered': '2', 'newconfirmed': '0'}\n",
      "{'name': 'Rajsamand', 'notes': '', 'active': '1', 'deceased': '0', 'confirmed': '1', 'recovered': '0', 'newconfirmed': '0'}\n",
      "{'name': 'Sawai Madhopur', 'notes': '', 'active': '8', 'deceased': '0', 'confirmed': '8', 'recovered': '0', 'newconfirmed': '0'}\n",
      "{'name': 'Sikar', 'notes': '', 'active': '2', 'deceased': '2', 'confirmed': '6', 'recovered': '2', 'newconfirmed': '0'}\n",
      "{'name': 'Tonk', 'notes': '', 'active': '95', 'deceased': '1', 'confirmed': '131', 'recovered': '35', 'newconfirmed': '0'}\n",
      "{'name': 'Udaipur', 'notes': '', 'active': '4', 'deceased': '0', 'confirmed': '8', 'recovered': '4', 'newconfirmed': '1'}\n",
      "{'name': 'Italians', 'notes': 'Italian tourists who were tested positive in Rajasthan', 'active': '0', 'deceased': '0', 'confirmed': '2', 'recovered': '2', 'newconfirmed': '0'}\n",
      "{'name': 'Evacuees', 'notes': 'Evacuees from other countries; They have been counted separatly by the state', 'active': '27', 'deceased': '0', 'confirmed': '61', 'recovered': '34', 'newconfirmed': '0'}\n",
      "{'name': 'Others state', 'notes': '', 'active': '-4', 'deceased': '2', 'confirmed': '0', 'recovered': '2', 'newconfirmed': '0'}\n"
     ]
    }
   ],
   "source": [
    "for var in range (len(data['data'])):\n",
    "    print(data['data'][var])"
   ]
  },
  {
   "cell_type": "code",
   "execution_count": 76,
   "metadata": {},
   "outputs": [],
   "source": [
    "district=[]\n",
    "for var in range (len(data['data'])):\n",
    "    district.append(data['data'][var]['name'])"
   ]
  },
  {
   "cell_type": "code",
   "execution_count": 77,
   "metadata": {},
   "outputs": [],
   "source": [
    "active=[]\n",
    "for var in range (len(data['data'])):\n",
    "    active.append(int(data['data'][var]['active']))"
   ]
  },
  {
   "cell_type": "code",
   "execution_count": 78,
   "metadata": {},
   "outputs": [],
   "source": [
    "deceased=[]\n",
    "for var in range (len(data['data'])):\n",
    "    deceased.append(int(data['data'][var]['deceased']))"
   ]
  },
  {
   "cell_type": "code",
   "execution_count": 79,
   "metadata": {},
   "outputs": [],
   "source": [
    "confirmed=[]\n",
    "for var in range (len(data['data'])):\n",
    "    confirmed.append(int(data['data'][var]['confirmed']))"
   ]
  },
  {
   "cell_type": "code",
   "execution_count": 80,
   "metadata": {},
   "outputs": [],
   "source": [
    "recovered=[]\n",
    "for var in range (len(data['data'])):\n",
    "    recovered.append(int(data['data'][var]['recovered']))"
   ]
  },
  {
   "cell_type": "code",
   "execution_count": 81,
   "metadata": {},
   "outputs": [],
   "source": [
    "newconfirmed=[]\n",
    "for var in range (len(data['data'])):\n",
    "    newconfirmed.append(int(data['data'][var]['newconfirmed']))"
   ]
  },
  {
   "cell_type": "code",
   "execution_count": 82,
   "metadata": {},
   "outputs": [],
   "source": [
    "df=pd.DataFrame(data=[district,confirmed,active,recovered,deceased,newconfirmed])"
   ]
  },
  {
   "cell_type": "code",
   "execution_count": 83,
   "metadata": {},
   "outputs": [],
   "source": [
    "df=df.T"
   ]
  },
  {
   "cell_type": "code",
   "execution_count": 84,
   "metadata": {},
   "outputs": [],
   "source": [
    "df.columns=['district','confirmed','active','recovered','deceased','newconfirmed']"
   ]
  },
  {
   "cell_type": "code",
   "execution_count": 85,
   "metadata": {},
   "outputs": [
    {
     "data": {
      "text/html": [
       "<div>\n",
       "<style scoped>\n",
       "    .dataframe tbody tr th:only-of-type {\n",
       "        vertical-align: middle;\n",
       "    }\n",
       "\n",
       "    .dataframe tbody tr th {\n",
       "        vertical-align: top;\n",
       "    }\n",
       "\n",
       "    .dataframe thead th {\n",
       "        text-align: right;\n",
       "    }\n",
       "</style>\n",
       "<table border=\"1\" class=\"dataframe\">\n",
       "  <thead>\n",
       "    <tr style=\"text-align: right;\">\n",
       "      <th></th>\n",
       "      <th>district</th>\n",
       "      <th>confirmed</th>\n",
       "      <th>active</th>\n",
       "      <th>recovered</th>\n",
       "      <th>deceased</th>\n",
       "      <th>newconfirmed</th>\n",
       "    </tr>\n",
       "  </thead>\n",
       "  <tbody>\n",
       "    <tr>\n",
       "      <th>0</th>\n",
       "      <td>Ajmer</td>\n",
       "      <td>146</td>\n",
       "      <td>141</td>\n",
       "      <td>5</td>\n",
       "      <td>0</td>\n",
       "      <td>11</td>\n",
       "    </tr>\n",
       "    <tr>\n",
       "      <th>1</th>\n",
       "      <td>Alwar</td>\n",
       "      <td>7</td>\n",
       "      <td>1</td>\n",
       "      <td>5</td>\n",
       "      <td>1</td>\n",
       "      <td>0</td>\n",
       "    </tr>\n",
       "    <tr>\n",
       "      <th>2</th>\n",
       "      <td>Banswara</td>\n",
       "      <td>64</td>\n",
       "      <td>33</td>\n",
       "      <td>31</td>\n",
       "      <td>0</td>\n",
       "      <td>1</td>\n",
       "    </tr>\n",
       "    <tr>\n",
       "      <th>3</th>\n",
       "      <td>Barmer</td>\n",
       "      <td>2</td>\n",
       "      <td>1</td>\n",
       "      <td>1</td>\n",
       "      <td>0</td>\n",
       "      <td>0</td>\n",
       "    </tr>\n",
       "    <tr>\n",
       "      <th>4</th>\n",
       "      <td>Bharatpur</td>\n",
       "      <td>110</td>\n",
       "      <td>103</td>\n",
       "      <td>5</td>\n",
       "      <td>2</td>\n",
       "      <td>0</td>\n",
       "    </tr>\n",
       "  </tbody>\n",
       "</table>\n",
       "</div>"
      ],
      "text/plain": [
       "    district confirmed active recovered deceased newconfirmed\n",
       "0      Ajmer       146    141         5        0           11\n",
       "1      Alwar         7      1         5        1            0\n",
       "2   Banswara        64     33        31        0            1\n",
       "3     Barmer         2      1         1        0            0\n",
       "4  Bharatpur       110    103         5        2            0"
      ]
     },
     "execution_count": 85,
     "metadata": {},
     "output_type": "execute_result"
    }
   ],
   "source": [
    "df.head()"
   ]
  },
  {
   "cell_type": "code",
   "execution_count": 86,
   "metadata": {},
   "outputs": [],
   "source": [
    "import matplotlib.pyplot as plt\n",
    "import pandas as pd\n",
    "import numpy as np\n",
    "%matplotlib inline"
   ]
  },
  {
   "cell_type": "code",
   "execution_count": 87,
   "metadata": {},
   "outputs": [
    {
     "data": {
      "image/png": "[encoded data removed]",
      "text/plain": [
       "<Figure size 1080x432 with 1 Axes>"
      ]
     },
     "metadata": {
      "needs_background": "light"
     },
     "output_type": "display_data"
    }
   ],
   "source": [
    "fig = plt.figure(figsize=(15,6))\n",
    "a1 = fig.add_subplot(111)\n",
    "x=[var for var in range(0,31)]\n",
    "a1.bar(x=x,height=df['confirmed'],ec='k',label='Confirmed')\n",
    "a1.bar(x=x,height=df['active'],ec='k',label='Active')\n",
    "a1.bar(x=x,height=df['deceased'],ec='k',label='Death')\n",
    "a1.set_xticks(x)\n",
    "a1.set_xticklabels(df['district'],rotation=80)\n",
    "a1.set_yticks(np.arange(0,1000,75))\n",
    "plt.legend()\n",
    "plt.show()"
   ]
  },
  {
   "cell_type": "code",
   "execution_count": 88,
   "metadata": {},
   "outputs": [
    {
     "data": {
      "text/plain": [
       "31"
      ]
     },
     "execution_count": 88,
     "metadata": {},
     "output_type": "execute_result"
    }
   ],
   "source": [
    "len(x)"
   ]
  },
  {
   "cell_type": "code",
   "execution_count": 102,
   "metadata": {},
   "outputs": [
    {
     "data": {
      "image/png": "[encoded data removed]",
      "text/plain": [
       "<Figure size 1080x432 with 1 Axes>"
      ]
     },
     "metadata": {
      "needs_background": "light"
     },
     "output_type": "display_data"
    }
   ],
   "source": [
    "fig = plt.figure(figsize=(15,6))\n",
    "a1 = fig.add_subplot(111)\n",
    "x=np.arange(31)\n",
    "a1.bar(x+0.0,height=df['confirmed'],ec='k',label='Confirmed',width=0.2,color='b')\n",
    "a1.bar(x+0.2,height=df['active'],ec='k',label='Active',width=0.2,color='orange')\n",
    "a1.bar(x+0.4,height=df['deceased'],ec='k',label='Death',width=0.2,color='red')\n",
    "a1.set_xticks(x)\n",
    "a1.set_xticklabels(df['district'],rotation=80)\n",
    "a1.set_yticks(np.arange(0,1000,75))\n",
    "plt.xlabel(\"Districts\")\n",
    "plt.legend()\n",
    "plt.show()"
   ]
  },
  {
   "cell_type": "markdown",
   "metadata": {},
   "source": [
    "<marquee width=\"60%\" direction=\"right\" height=\"100px\"><h1 style=\"color:red; font-family:Comic Sans Ms\">Ravi Ramawat</h1></marquee>"
   ]
  },
  {
   "cell_type": "code",
   "execution_count": 40,
   "metadata": {},
   "outputs": [
    {
     "data": {
      "text/plain": [
       "<matplotlib.collections.PathCollection at 0x1ba6d9902c8>"
      ]
     },
     "execution_count": 40,
     "metadata": {},
     "output_type": "execute_result"
    },
    {
     "data": {
      "image/png": "[encoded data removed]",
      "text/plain": [
       "<Figure size 432x288 with 1 Axes>"
      ]
     },
     "metadata": {
      "needs_background": "light"
     },
     "output_type": "display_data"
    }
   ],
   "source": [
    "plt.scatter(df['confirmed'],df['deceased'])"
   ]
  },
  {
   "cell_type": "code",
   "execution_count": 41,
   "metadata": {},
   "outputs": [],
   "source": [
    "from mpl_toolkits.mplot3d import axes3d as ax"
   ]
  },
  {
   "cell_type": "code",
   "execution_count": 42,
   "metadata": {},
   "outputs": [
    {
     "data": {
      "text/plain": [
       "<mpl_toolkits.mplot3d.art3d.Path3DCollection at 0x1ba70828988>"
      ]
     },
     "execution_count": 42,
     "metadata": {},
     "output_type": "execute_result"
    },
    {
     "data": {
      "image/png": "[encoded data removed]",
      "text/plain": [
       "<Figure size 720x288 with 1 Axes>"
      ]
     },
     "metadata": {
      "needs_background": "light"
     },
     "output_type": "display_data"
    }
   ],
   "source": [
    "%matplotlib qt5\n",
    "fig = plt.figure(figsize=(10,4))\n",
    "a  = fig.add_subplot(111,projection='3d')\n",
    "a.scatter(df['confirmed'],df['deceased'])"
   ]
  },
  {
   "cell_type": "code",
   "execution_count": 69,
   "metadata": {},
   "outputs": [
    {
     "data": {
      "image/png": "[encoded data removed]",
      "text/plain": [
       "<Figure size 432x288 with 1 Axes>"
      ]
     },
     "metadata": {
      "needs_background": "light"
     },
     "output_type": "display_data"
    }
   ],
   "source": [
    "plt.scatter(date[::3],df['totalconfirmed'][::3])\n",
    "plt.plot(date[::3],df['totalconfirmed'][::3],'r--')\n",
    "plt.xticks(rotation=80)\n",
    "plt.show()"
   ]
  },
  {
   "cell_type": "code",
   "execution_count": 101,
   "metadata": {},
   "outputs": [
    {
     "data": {
      "text/plain": [
       "[<matplotlib.lines.Line2D at 0x1ba718b5cc8>]"
      ]
     },
     "execution_count": 101,
     "metadata": {},
     "output_type": "execute_result"
    },
    {
     "data": {
      "image/png": "[encoded data removed]",
      "text/plain": [
       "<Figure size 432x288 with 1 Axes>"
      ]
     },
     "metadata": {
      "needs_background": "light"
     },
     "output_type": "display_data"
    }
   ],
   "source": [
    "plt.plot(df.iloc[0][1:],'r')"
   ]
  },
  {
   "cell_type": "code",
   "execution_count": 100,
   "metadata": {},
   "outputs": [
    {
     "data": {
      "text/plain": [
       "<matplotlib.axes._subplots.AxesSubplot at 0x1ba7190fd08>"
      ]
     },
     "execution_count": 100,
     "metadata": {},
     "output_type": "execute_result"
    },
    {
     "data": {
      "image/png": "[encoded data removed]",
      "text/plain": [
       "<Figure size 432x288 with 1 Axes>"
      ]
     },
     "metadata": {
      "needs_background": "light"
     },
     "output_type": "display_data"
    }
   ],
   "source": [
    "df.plot()"
   ]
  },
  {
   "cell_type": "code",
   "execution_count": null,
   "metadata": {},
   "outputs": [],
   "source": []
  }
 ],
 "metadata": {
  "kernelspec": {
   "display_name": "Python 3",
   "language": "python",
   "name": "python3"
  },
  "language_info": {
   "codemirror_mode": {
    "name": "ipython",
    "version": 3
   },
   "file_extension": ".py",
   "mimetype": "text/x-python",
   "name": "python",
   "nbconvert_exporter": "python",
   "pygments_lexer": "ipython3",
   "version": "3.7.6"
  }
 },
 "nbformat": 4,
 "nbformat_minor": 4
}
