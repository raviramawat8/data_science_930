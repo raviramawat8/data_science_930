{
 "cells": [
  {
   "cell_type": "code",
   "execution_count": 1,
   "metadata": {},
   "outputs": [],
   "source": [
    "import socket"
   ]
  },
  {
   "cell_type": "code",
   "execution_count": 2,
   "metadata": {},
   "outputs": [],
   "source": [
    "ip = socket.gethostbyaddr(\"www.google.com\")"
   ]
  },
  {
   "cell_type": "code",
   "execution_count": 3,
   "metadata": {},
   "outputs": [
    {
     "name": "stdout",
     "output_type": "stream",
     "text": [
      "('maa05s05-in-f4.1e100.net', [], ['172.217.163.164'])\n"
     ]
    }
   ],
   "source": [
    "print(ip)"
   ]
  },
  {
   "cell_type": "code",
   "execution_count": 4,
   "metadata": {},
   "outputs": [],
   "source": [
    "host = socket.gethostname()"
   ]
  },
  {
   "cell_type": "code",
   "execution_count": null,
   "metadata": {},
   "outputs": [],
   "source": [
    "socket.gethostbyname"
   ]
  },
  {
   "cell_type": "code",
   "execution_count": 5,
   "metadata": {},
   "outputs": [
    {
     "name": "stdout",
     "output_type": "stream",
     "text": [
      "Ravi_Ramawat\n"
     ]
    }
   ],
   "source": [
    "print(host)"
   ]
  },
  {
   "cell_type": "code",
   "execution_count": 6,
   "metadata": {},
   "outputs": [],
   "source": [
    "#client\n",
    "import socket\n",
    "client_socket = socket.socket(socket.AF_INET,socket.SOCK_STREAM)\n",
    "ip = socket.gethostbyname(socket.gethostname())\n",
    "port =1234\n",
    "client_socket.connect((ip,port))\n",
    "print(f\"Got connected with {ip}\")\n",
    "while True:\n",
    "    smsg = client_socket.recv(1024)\n",
    "    if smsg.decode().strip().lower() == \"bye\":\n",
    "        print(\"Socket Has been closed by server!!\")\n",
    "        client_socket.close()\n",
    "    else:\n",
    "        print(\"\\n\\nSERVER --> \",smsg.decode())\n",
    "        msg = input(\"\\n\\nCLIENT --> \")\n",
    "        if msg == \"bye\":\n",
    "            print(\"\\n\\nSocket closed by you!!!\")\n",
    "            client_socket.close()\n",
    "            break\n",
    "        else:\n",
    "            client_socket.send(msg.encode())\n",
    "            "
   ]
  },
  {
   "cell_type": "code",
   "execution_count": 7,
   "metadata": {},
   "outputs": [
    {
     "name": "stdout",
     "output_type": "stream",
     "text": [
      "192.168.31.1\n"
     ]
    }
   ],
   "source": [
    "#server\n",
    "import socket\n",
    "server_socket = socket.socket(socket.AF_INET,socket.SOCK_STREAM)\n",
    "ip = socket.gethostbyname(socket.gethostname())\n",
    "port =1234\n",
    "server_socket.bind((ip,port))\n",
    "server_socket.listen()\n",
    "print(\"\\n\\nServer is listening to their Clients...\")\n",
    "client_socket,client_addr=server_socket.accept()\n",
    "print(f\"Got connected with {client_addr}\")\n",
    "while True:\n",
    "    smsg = input(\"\\n\\nSERVER --> \")\n",
    "    if smsg == \"bye\":\n",
    "        print(\"\\n\\nSocket closed by You!!!\")\n",
    "        client_socket.close()\n",
    "        server_socket.close()\n",
    "    else:\n",
    "        client_socket.send(smsg.encode())\n",
    "        msg = client_socket.recv(1024)\n",
    "        if msg.decode().strip().lower() == \"bye\":\n",
    "            print(\"Socket Has been closed by CLIENT!!\")\n",
    "            client_socket.close()\n",
    "            server_socket.close()\n",
    "        else:\n",
    "            print(\"\\n\\nCLIENT --> \",msg.decode())\n",
    "        "
   ]
  },
  {
   "cell_type": "code",
   "execution_count": null,
   "metadata": {},
   "outputs": [],
   "source": []
  }
 ],
 "metadata": {
  "kernelspec": {
   "display_name": "Python 3",
   "language": "python",
   "name": "python3"
  },
  "language_info": {
   "codemirror_mode": {
    "name": "ipython",
    "version": 3
   },
   "file_extension": ".py",
   "mimetype": "text/x-python",
   "name": "python",
   "nbconvert_exporter": "python",
   "pygments_lexer": "ipython3",
   "version": "3.7.6"
  }
 },
 "nbformat": 4,
 "nbformat_minor": 4
}
