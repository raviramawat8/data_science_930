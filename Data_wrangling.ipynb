{
 "cells": [
  {
   "cell_type": "code",
   "execution_count": 5,
   "metadata": {},
   "outputs": [],
   "source": [
    "from zipfile import ZipFile"
   ]
  },
  {
   "cell_type": "code",
   "execution_count": 6,
   "metadata": {},
   "outputs": [],
   "source": [
    "fp = ZipFile(\"c:/Users/HP-PC/Desktop/armenian-online-job-postings.zip\")"
   ]
  },
  {
   "cell_type": "code",
   "execution_count": 9,
   "metadata": {},
   "outputs": [],
   "source": [
    "fp.extractall(\"c:/Users/HP-PC/Desktop/abc\")"
   ]
  },
  {
   "cell_type": "code",
   "execution_count": 8,
   "metadata": {},
   "outputs": [
    {
     "name": "stdout",
     "output_type": "stream",
     "text": [
      " Volume in drive F is New Volume\n",
      " Volume Serial Number is 3033-C958\n",
      "\n",
      " Directory of F:\\Data\\data_science_10_00\n",
      "\n",
      "30-04-2020  10.48 AM    <DIR>          .\n",
      "30-04-2020  10.48 AM    <DIR>          ..\n",
      "30-04-2020  10.45 AM    <DIR>          .ipynb_checkpoints\n",
      "29-04-2020  11.29 AM           257,991 APIS.ipynb\n",
      "18-04-2020  10.37 AM           780,519 Data_Preprocessing.ipynb\n",
      "30-04-2020  10.48 AM             3,450 Data_wrangling.ipynb\n",
      "25-04-2020  11.34 AM           428,647 Dobut_Session.ipynb\n",
      "30-04-2020  10.48 AM           819,666 example-job-posting.jpg\n",
      "30-04-2020  10.48 AM             1,066 features.txt\n",
      "04-04-2020  11.35 AM         3,857,902 Numpy.ipynb\n",
      "30-04-2020  10.48 AM        95,970,050 online-job-postings.csv\n",
      "09-04-2020  10.32 AM           610,922 Pandas.ipynb\n",
      "15-04-2020  11.19 AM         1,206,471 Seaborn.ipynb\n",
      "17-03-2020  01.52 PM             3,974 Socket_programming.ipynb\n",
      "17-04-2020  10.32 AM             3,133 test.ipynb\n",
      "              12 File(s)    103,943,791 bytes\n",
      "               3 Dir(s)  277,905,281,024 bytes free\n"
     ]
    }
   ],
   "source": [
    "ls"
   ]
  },
  {
   "cell_type": "code",
   "execution_count": null,
   "metadata": {},
   "outputs": [],
   "source": []
  },
  {
   "cell_type": "code",
   "execution_count": null,
   "metadata": {},
   "outputs": [],
   "source": []
  }
 ],
 "metadata": {
  "kernelspec": {
   "display_name": "Python 3",
   "language": "python",
   "name": "python3"
  },
  "language_info": {
   "codemirror_mode": {
    "name": "ipython",
    "version": 3
   },
   "file_extension": ".py",
   "mimetype": "text/x-python",
   "name": "python",
   "nbconvert_exporter": "python",
   "pygments_lexer": "ipython3",
   "version": "3.7.6"
  }
 },
 "nbformat": 4,
 "nbformat_minor": 4
}
